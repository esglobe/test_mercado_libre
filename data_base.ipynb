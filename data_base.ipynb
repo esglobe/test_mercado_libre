{
 "cells": [
  {
   "cell_type": "markdown",
   "metadata": {},
   "source": [
    "# Data Base\n",
    "\n",
    "By: Javier Martínez"
   ]
  },
  {
   "cell_type": "code",
   "execution_count": 1,
   "metadata": {},
   "outputs": [],
   "source": [
    "import json\n",
    "import pandas as pd\n",
    "from datetime import datetime"
   ]
  },
  {
   "cell_type": "markdown",
   "metadata": {},
   "source": [
    "### Reading Data"
   ]
  },
  {
   "cell_type": "code",
   "execution_count": 2,
   "metadata": {},
   "outputs": [],
   "source": [
    "# You can safely assume that `build_dataset` is correctly implemented\n",
    "def build_dataset(path):\n",
    "    data = [json.loads(x) for x in open(path)]\n",
    "\n",
    "    #================================\n",
    "    def lavel_training(x,lavel=1):\n",
    "        \"\"\"\n",
    "        Insert key in dictionary\n",
    "        \"\"\"\n",
    "        x['training_data'] = lavel\n",
    "        return x\n",
    "    #================================\n",
    "\n",
    "    target = lambda x: x.get(\"condition\")\n",
    "    N = -10000\n",
    "    X_train = [lavel_training(x,lavel=1) for x in data[:N]]\n",
    "    X_test = [lavel_training(x,lavel=0) for x in  data[N:]]\n",
    "    y_train = [target(x) for x in X_train]\n",
    "    y_test = [target(x) for x in X_test]\n",
    "    # for x in X_test:\n",
    "    #     del x[\"condition\"]\n",
    "    return X_train, y_train, X_test, y_test"
   ]
  },
  {
   "cell_type": "code",
   "execution_count": 3,
   "metadata": {},
   "outputs": [],
   "source": [
    "# Reading Data\n",
    "path = 'data/MLA_100k_checked_v3.jsonlines'\n",
    "X_train, y_train, X_test, y_test = build_dataset(path)"
   ]
  },
  {
   "cell_type": "code",
   "execution_count": 4,
   "metadata": {},
   "outputs": [],
   "source": [
    "# Add data\n",
    "data = X_train + X_test"
   ]
  },
  {
   "cell_type": "markdown",
   "metadata": {},
   "source": [
    "### Creating variables"
   ]
  },
  {
   "cell_type": "code",
   "execution_count": 5,
   "metadata": {},
   "outputs": [],
   "source": [
    "# All keys\n",
    "keys_list = []\n",
    "for doc in data:\n",
    "    for key_ in doc.keys():\n",
    "        keys_list.append(key_)\n",
    "    \n",
    "keys_list = list(set(keys_list))"
   ]
  },
  {
   "cell_type": "code",
   "execution_count": 6,
   "metadata": {},
   "outputs": [],
   "source": [
    "# Get values\n",
    "data_dict = {}\n",
    "for variable in keys_list :\n",
    "    data_dict[variable] = list(map( lambda x: x.get(variable), data ))\n",
    "\n",
    "all_features  = list(data_dict.keys())"
   ]
  },
  {
   "cell_type": "markdown",
   "metadata": {},
   "source": [
    "Delete features:\n",
    "\n",
    "* international_delivery_mode: All NULL.\n",
    "* listing_source: All NULL ({''}).\n",
    "* coverage_areas: All NULL ([])..\n",
    "* differential_pricing: All NULL.\n",
    "* subtitle: All NULL ({None}).\n",
    "* descriptions: equal to column ID. \n",
    "* site_id : same encoding 'MLA')."
   ]
  },
  {
   "cell_type": "code",
   "execution_count": 7,
   "metadata": {},
   "outputs": [],
   "source": [
    "# features dropped\n",
    "features_dropped = ['international_delivery_mode',\n",
    "                    'listing_source',\n",
    "                    'coverage_areas',\n",
    "                    'differential_pricing',\n",
    "                    'subtitle',\n",
    "                    'descriptions',\n",
    "                    'site_id',\n",
    "                    ]\n",
    "for feature in features_dropped:\n",
    "    del data_dict[feature]"
   ]
  },
  {
   "cell_type": "markdown",
   "metadata": {},
   "source": [
    "Search the word new (nuevo) or estrenar"
   ]
  },
  {
   "cell_type": "code",
   "execution_count": 8,
   "metadata": {},
   "outputs": [],
   "source": [
    "# title\n",
    "data_dict['title_new'] = [1 if (x.upper().find('NUEV')>0\\\n",
    "    or x.upper().find('NEW')>0\\\n",
    "    or x.upper().find('ESTREN')>0\\\n",
    "    ) else 0 for x in data_dict['title']]"
   ]
  },
  {
   "cell_type": "markdown",
   "metadata": {},
   "source": [
    "Creating boolean features"
   ]
  },
  {
   "cell_type": "code",
   "execution_count": 9,
   "metadata": {},
   "outputs": [],
   "source": [
    "# shipping\n",
    "data_dict['local_pick_up'] = [1*x.get('local_pick_up') for x in data_dict['shipping']]\n",
    "data_dict['free_shipping'] = [1*x.get('free_shipping') for x in data_dict['shipping']]\n",
    "data_dict['mode'] = [1*x.get('mode') for x in data_dict['shipping']]"
   ]
  },
  {
   "cell_type": "code",
   "execution_count": 10,
   "metadata": {},
   "outputs": [],
   "source": [
    "# variations\n",
    "data_dict['variations_boolean'] = [1*(x!=[]) for x in data_dict['variations']]"
   ]
  },
  {
   "cell_type": "code",
   "execution_count": 11,
   "metadata": {},
   "outputs": [],
   "source": [
    "# accepts_mercadopago\n",
    "data_dict['accepts_mercadopago_boolean'] = [1*x for x in data_dict['accepts_mercadopago']]"
   ]
  },
  {
   "cell_type": "code",
   "execution_count": 12,
   "metadata": {},
   "outputs": [],
   "source": [
    "# currency_id\n",
    "data_dict['currency_id_boolean'] = [1*(x=='ARS') for x in data_dict['currency_id']]"
   ]
  },
  {
   "cell_type": "code",
   "execution_count": 13,
   "metadata": {},
   "outputs": [],
   "source": [
    "# currency_id\n",
    "data_dict['date_created_format'] = [datetime.strptime(x,'%Y-%m-%dT%H:%M:%S.000Z') for x in data_dict['date_created']]"
   ]
  },
  {
   "cell_type": "code",
   "execution_count": 14,
   "metadata": {},
   "outputs": [],
   "source": [
    "# attributes\n",
    "data_dict['attributes_boolean'] = [1*(x!=[]) for x in data_dict['attributes']]"
   ]
  },
  {
   "cell_type": "code",
   "execution_count": 15,
   "metadata": {},
   "outputs": [],
   "source": [
    "# automatic_relist\n",
    "data_dict['automatic_relist_boolean'] = [1*(x) for x in data_dict['automatic_relist']]"
   ]
  },
  {
   "cell_type": "code",
   "execution_count": 16,
   "metadata": {},
   "outputs": [],
   "source": [
    "# video_id\n",
    "data_dict['video_id_boolean'] = [1 if x is not None else 0 for x in data_dict['video_id']]"
   ]
  },
  {
   "cell_type": "code",
   "execution_count": 17,
   "metadata": {},
   "outputs": [],
   "source": [
    "# sub_status\n",
    "data_dict['sub_status_new'] = [x[0] if x!=[] else None for x in data_dict['sub_status']  ]"
   ]
  },
  {
   "cell_type": "code",
   "execution_count": 18,
   "metadata": {},
   "outputs": [],
   "source": [
    "# deal_ids\n",
    "data_dict['deal_ids_new'] = [x[0] if x!=[] else None for x in data_dict['deal_ids']  ]"
   ]
  },
  {
   "cell_type": "code",
   "execution_count": 19,
   "metadata": {},
   "outputs": [],
   "source": [
    "# seller_address\n",
    "data_dict['seller_address_country'] = [1*x.get('country').get('id')  for x in data_dict['seller_address']]\n",
    "data_dict['seller_address_state'] = [1*x.get('state').get('id')  for x in data_dict['seller_address']]\n",
    "data_dict['seller_address_city'] = [1*x.get('city').get('id')  for x in data_dict['seller_address']]"
   ]
  },
  {
   "cell_type": "markdown",
   "metadata": {},
   "source": [
    "### Pandas Data Frame"
   ]
  },
  {
   "cell_type": "code",
   "execution_count": 20,
   "metadata": {},
   "outputs": [],
   "source": [
    "#==============\n",
    "def condition_format(x):\n",
    "    \"\"\"\n",
    "    Condition boolean\n",
    "    \"\"\"\n",
    "\n",
    "    if x=='new':\n",
    "        return 1\n",
    "    elif x=='used':\n",
    "        return 0\n",
    "    else:\n",
    "        return x\n",
    "#==============\n",
    "\n",
    "\n",
    "# DataFrame\n",
    "pd_data = pd.DataFrame(data_dict)\n",
    "pd_data['condition_new'] = pd_data['condition'].apply(condition_format,1)\n",
    "\n",
    "\n",
    "# save data\n",
    "pd_data.to_pickle('./data/data_base.pkl')"
   ]
  }
 ],
 "metadata": {
  "kernelspec": {
   "display_name": "Python 3.9.0 ('analisis')",
   "language": "python",
   "name": "python3"
  },
  "language_info": {
   "codemirror_mode": {
    "name": "ipython",
    "version": 3
   },
   "file_extension": ".py",
   "mimetype": "text/x-python",
   "name": "python",
   "nbconvert_exporter": "python",
   "pygments_lexer": "ipython3",
   "version": "3.9.0"
  },
  "orig_nbformat": 4,
  "vscode": {
   "interpreter": {
    "hash": "cd1b4e18fb74f565c8fc9642e64dc5ff934c7c3ac8741d3f6831ae7dbdee96fd"
   }
  }
 },
 "nbformat": 4,
 "nbformat_minor": 2
}
