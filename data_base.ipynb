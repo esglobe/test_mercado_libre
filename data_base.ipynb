{
 "cells": [
  {
   "cell_type": "markdown",
   "metadata": {},
   "source": [
    "# Data Base\n",
    "\n",
    "By: Javier Martínez"
   ]
  },
  {
   "cell_type": "code",
   "execution_count": 1,
   "metadata": {},
   "outputs": [],
   "source": [
    "import json\n",
    "import pandas as pd\n",
    "from datetime import datetime\n",
    "import numpy as np"
   ]
  },
  {
   "cell_type": "markdown",
   "metadata": {},
   "source": [
    "### Reading Data"
   ]
  },
  {
   "cell_type": "code",
   "execution_count": 2,
   "metadata": {},
   "outputs": [],
   "source": [
    "# You can safely assume that `build_dataset` is correctly implemented\n",
    "def build_dataset(path):\n",
    "    data = [json.loads(x) for x in open(path)]\n",
    "\n",
    "    #================================\n",
    "    def lavel_training(x,lavel=1):\n",
    "        \"\"\"\n",
    "        Insert key in dictionary\n",
    "        \"\"\"\n",
    "        x['training_data'] = lavel\n",
    "        return x\n",
    "    #================================\n",
    "\n",
    "    target = lambda x: x.get(\"condition\")\n",
    "    N = -10000\n",
    "    X_train = [lavel_training(x,lavel=1) for x in data[:N]]\n",
    "    X_test = [lavel_training(x,lavel=0) for x in  data[N:]]\n",
    "    y_train = [target(x) for x in X_train]\n",
    "    y_test = [target(x) for x in X_test]\n",
    "    # for x in X_test:\n",
    "    #     del x[\"condition\"]\n",
    "    return X_train, y_train, X_test, y_test"
   ]
  },
  {
   "cell_type": "code",
   "execution_count": 3,
   "metadata": {},
   "outputs": [],
   "source": [
    "# Reading Data\n",
    "path = 'data/MLA_100k_checked_v3.jsonlines'\n",
    "X_train, y_train, X_test, y_test = build_dataset(path)"
   ]
  },
  {
   "cell_type": "code",
   "execution_count": 4,
   "metadata": {},
   "outputs": [],
   "source": [
    "# Add data\n",
    "data = X_train + X_test"
   ]
  },
  {
   "cell_type": "markdown",
   "metadata": {},
   "source": [
    "### Creating variables"
   ]
  },
  {
   "cell_type": "code",
   "execution_count": 5,
   "metadata": {},
   "outputs": [],
   "source": [
    "# All keys\n",
    "keys_list = []\n",
    "for doc in data:\n",
    "    for key_ in doc.keys():\n",
    "        keys_list.append(key_)\n",
    "    \n",
    "keys_list = list(set(keys_list))"
   ]
  },
  {
   "cell_type": "code",
   "execution_count": 6,
   "metadata": {},
   "outputs": [],
   "source": [
    "# Get values\n",
    "data_dict = {}\n",
    "for variable in keys_list :\n",
    "    data_dict[variable] = list(map( lambda x: x.get(variable), data ))\n",
    "\n",
    "all_features  = list(data_dict.keys())"
   ]
  },
  {
   "cell_type": "markdown",
   "metadata": {},
   "source": [
    "Delete features:\n",
    "\n",
    "* international_delivery_mode: All NULL.\n",
    "* listing_source: All NULL ({''}).\n",
    "* coverage_areas: All NULL ([])..\n",
    "* differential_pricing: All NULL.\n",
    "* subtitle: All NULL ({None}).\n",
    "* descriptions: equal to column ID. \n",
    "* site_id : same encoding 'MLA').\n",
    "* catalog_product_id: Only 11 values.\n",
    "* original_price: Only 148 values.\n",
    "* sub_status: Only 986 values."
   ]
  },
  {
   "cell_type": "code",
   "execution_count": 7,
   "metadata": {},
   "outputs": [],
   "source": [
    "# features dropped\n",
    "features_dropped = ['international_delivery_mode',\n",
    "                    'listing_source',\n",
    "                    'coverage_areas',\n",
    "                    'differential_pricing',\n",
    "                    'subtitle',\n",
    "                    'descriptions',\n",
    "                    'site_id',      \n",
    "                    'catalog_product_id',\n",
    "                    'original_price',\n",
    "                    'sub_status'   \n",
    "                    ]\n",
    "for feature in features_dropped:\n",
    "    del data_dict[feature]"
   ]
  },
  {
   "cell_type": "code",
   "execution_count": 8,
   "metadata": {},
   "outputs": [],
   "source": [
    "variables = list(data_dict.keys())"
   ]
  },
  {
   "cell_type": "markdown",
   "metadata": {},
   "source": [
    "non_mercado_pago_payment_methods"
   ]
  },
  {
   "cell_type": "code",
   "execution_count": 9,
   "metadata": {},
   "outputs": [],
   "source": [
    "#==========================\n",
    "def non_mercado_pago_payment_methods_function(x):\n",
    "\n",
    "\n",
    "    no_pago = x.get('non_mercado_pago_payment_methods')\n",
    "    if (no_pago ==[]) :\n",
    "        return None\n",
    "\n",
    "    data = pd.concat( list(map( lambda x: pd.DataFrame(x,index=[0]), no_pago ) ) )\n",
    "    data['id_no_pago'] = data['id'] \n",
    "    data['id'] = x.get('id')\n",
    "    return data \n",
    "#==========================\n",
    "\n",
    "pd_no_pago = list(map(non_mercado_pago_payment_methods_function,data))"
   ]
  },
  {
   "cell_type": "code",
   "execution_count": 10,
   "metadata": {},
   "outputs": [],
   "source": [
    "\n",
    "pd_integracion = pd.concat( list(filter(lambda x: x is not None, pd_no_pago)) )"
   ]
  },
  {
   "cell_type": "code",
   "execution_count": 11,
   "metadata": {},
   "outputs": [
    {
     "data": {
      "text/html": [
       "<div>\n",
       "<style scoped>\n",
       "    .dataframe tbody tr th:only-of-type {\n",
       "        vertical-align: middle;\n",
       "    }\n",
       "\n",
       "    .dataframe tbody tr th {\n",
       "        vertical-align: top;\n",
       "    }\n",
       "\n",
       "    .dataframe thead th {\n",
       "        text-align: right;\n",
       "    }\n",
       "</style>\n",
       "<table border=\"1\" class=\"dataframe\">\n",
       "  <thead>\n",
       "    <tr style=\"text-align: right;\">\n",
       "      <th>id_no_pago</th>\n",
       "      <th>id</th>\n",
       "      <th>MLAAM</th>\n",
       "      <th>MLABC</th>\n",
       "      <th>MLACD</th>\n",
       "      <th>MLADC</th>\n",
       "      <th>MLAMC</th>\n",
       "      <th>MLAMO</th>\n",
       "      <th>MLAMP</th>\n",
       "      <th>MLAMS</th>\n",
       "      <th>MLAOT</th>\n",
       "      <th>MLATB</th>\n",
       "      <th>MLAVE</th>\n",
       "      <th>MLAVS</th>\n",
       "      <th>MLAWC</th>\n",
       "      <th>MLAWT</th>\n",
       "    </tr>\n",
       "  </thead>\n",
       "  <tbody>\n",
       "    <tr>\n",
       "      <th>0</th>\n",
       "      <td>MLA1000058677</td>\n",
       "      <td>0</td>\n",
       "      <td>0</td>\n",
       "      <td>0</td>\n",
       "      <td>0</td>\n",
       "      <td>0</td>\n",
       "      <td>1</td>\n",
       "      <td>0</td>\n",
       "      <td>0</td>\n",
       "      <td>0</td>\n",
       "      <td>1</td>\n",
       "      <td>0</td>\n",
       "      <td>0</td>\n",
       "      <td>0</td>\n",
       "      <td>0</td>\n",
       "    </tr>\n",
       "    <tr>\n",
       "      <th>1</th>\n",
       "      <td>MLA1000182804</td>\n",
       "      <td>0</td>\n",
       "      <td>0</td>\n",
       "      <td>0</td>\n",
       "      <td>0</td>\n",
       "      <td>0</td>\n",
       "      <td>1</td>\n",
       "      <td>0</td>\n",
       "      <td>0</td>\n",
       "      <td>0</td>\n",
       "      <td>0</td>\n",
       "      <td>0</td>\n",
       "      <td>0</td>\n",
       "      <td>0</td>\n",
       "      <td>0</td>\n",
       "    </tr>\n",
       "    <tr>\n",
       "      <th>2</th>\n",
       "      <td>MLA1000356806</td>\n",
       "      <td>0</td>\n",
       "      <td>0</td>\n",
       "      <td>0</td>\n",
       "      <td>0</td>\n",
       "      <td>0</td>\n",
       "      <td>1</td>\n",
       "      <td>0</td>\n",
       "      <td>0</td>\n",
       "      <td>0</td>\n",
       "      <td>0</td>\n",
       "      <td>0</td>\n",
       "      <td>0</td>\n",
       "      <td>0</td>\n",
       "      <td>0</td>\n",
       "    </tr>\n",
       "    <tr>\n",
       "      <th>3</th>\n",
       "      <td>MLA1000434568</td>\n",
       "      <td>0</td>\n",
       "      <td>0</td>\n",
       "      <td>0</td>\n",
       "      <td>0</td>\n",
       "      <td>0</td>\n",
       "      <td>1</td>\n",
       "      <td>0</td>\n",
       "      <td>0</td>\n",
       "      <td>1</td>\n",
       "      <td>1</td>\n",
       "      <td>0</td>\n",
       "      <td>0</td>\n",
       "      <td>1</td>\n",
       "      <td>0</td>\n",
       "    </tr>\n",
       "    <tr>\n",
       "      <th>4</th>\n",
       "      <td>MLA1000488061</td>\n",
       "      <td>0</td>\n",
       "      <td>0</td>\n",
       "      <td>0</td>\n",
       "      <td>0</td>\n",
       "      <td>0</td>\n",
       "      <td>1</td>\n",
       "      <td>0</td>\n",
       "      <td>0</td>\n",
       "      <td>0</td>\n",
       "      <td>1</td>\n",
       "      <td>0</td>\n",
       "      <td>0</td>\n",
       "      <td>0</td>\n",
       "      <td>0</td>\n",
       "    </tr>\n",
       "    <tr>\n",
       "      <th>...</th>\n",
       "      <td>...</td>\n",
       "      <td>...</td>\n",
       "      <td>...</td>\n",
       "      <td>...</td>\n",
       "      <td>...</td>\n",
       "      <td>...</td>\n",
       "      <td>...</td>\n",
       "      <td>...</td>\n",
       "      <td>...</td>\n",
       "      <td>...</td>\n",
       "      <td>...</td>\n",
       "      <td>...</td>\n",
       "      <td>...</td>\n",
       "      <td>...</td>\n",
       "      <td>...</td>\n",
       "    </tr>\n",
       "    <tr>\n",
       "      <th>69436</th>\n",
       "      <td>MLA9999613215</td>\n",
       "      <td>0</td>\n",
       "      <td>0</td>\n",
       "      <td>0</td>\n",
       "      <td>0</td>\n",
       "      <td>0</td>\n",
       "      <td>1</td>\n",
       "      <td>0</td>\n",
       "      <td>0</td>\n",
       "      <td>0</td>\n",
       "      <td>1</td>\n",
       "      <td>0</td>\n",
       "      <td>0</td>\n",
       "      <td>0</td>\n",
       "      <td>0</td>\n",
       "    </tr>\n",
       "    <tr>\n",
       "      <th>69437</th>\n",
       "      <td>MLA9999686603</td>\n",
       "      <td>0</td>\n",
       "      <td>0</td>\n",
       "      <td>0</td>\n",
       "      <td>0</td>\n",
       "      <td>0</td>\n",
       "      <td>1</td>\n",
       "      <td>0</td>\n",
       "      <td>0</td>\n",
       "      <td>1</td>\n",
       "      <td>1</td>\n",
       "      <td>0</td>\n",
       "      <td>0</td>\n",
       "      <td>0</td>\n",
       "      <td>0</td>\n",
       "    </tr>\n",
       "    <tr>\n",
       "      <th>69438</th>\n",
       "      <td>MLA9999689095</td>\n",
       "      <td>0</td>\n",
       "      <td>0</td>\n",
       "      <td>0</td>\n",
       "      <td>0</td>\n",
       "      <td>0</td>\n",
       "      <td>1</td>\n",
       "      <td>0</td>\n",
       "      <td>0</td>\n",
       "      <td>0</td>\n",
       "      <td>1</td>\n",
       "      <td>0</td>\n",
       "      <td>0</td>\n",
       "      <td>1</td>\n",
       "      <td>0</td>\n",
       "    </tr>\n",
       "    <tr>\n",
       "      <th>69439</th>\n",
       "      <td>MLA9999718961</td>\n",
       "      <td>0</td>\n",
       "      <td>0</td>\n",
       "      <td>0</td>\n",
       "      <td>0</td>\n",
       "      <td>0</td>\n",
       "      <td>1</td>\n",
       "      <td>0</td>\n",
       "      <td>0</td>\n",
       "      <td>0</td>\n",
       "      <td>0</td>\n",
       "      <td>0</td>\n",
       "      <td>0</td>\n",
       "      <td>1</td>\n",
       "      <td>0</td>\n",
       "    </tr>\n",
       "    <tr>\n",
       "      <th>69440</th>\n",
       "      <td>MLA9999792386</td>\n",
       "      <td>0</td>\n",
       "      <td>0</td>\n",
       "      <td>0</td>\n",
       "      <td>0</td>\n",
       "      <td>0</td>\n",
       "      <td>1</td>\n",
       "      <td>0</td>\n",
       "      <td>0</td>\n",
       "      <td>0</td>\n",
       "      <td>0</td>\n",
       "      <td>0</td>\n",
       "      <td>0</td>\n",
       "      <td>0</td>\n",
       "      <td>0</td>\n",
       "    </tr>\n",
       "  </tbody>\n",
       "</table>\n",
       "<p>69441 rows × 15 columns</p>\n",
       "</div>"
      ],
      "text/plain": [
       "id_no_pago             id  MLAAM  MLABC  MLACD  MLADC  MLAMC  MLAMO  MLAMP  \\\n",
       "0           MLA1000058677      0      0      0      0      0      1      0   \n",
       "1           MLA1000182804      0      0      0      0      0      1      0   \n",
       "2           MLA1000356806      0      0      0      0      0      1      0   \n",
       "3           MLA1000434568      0      0      0      0      0      1      0   \n",
       "4           MLA1000488061      0      0      0      0      0      1      0   \n",
       "...                   ...    ...    ...    ...    ...    ...    ...    ...   \n",
       "69436       MLA9999613215      0      0      0      0      0      1      0   \n",
       "69437       MLA9999686603      0      0      0      0      0      1      0   \n",
       "69438       MLA9999689095      0      0      0      0      0      1      0   \n",
       "69439       MLA9999718961      0      0      0      0      0      1      0   \n",
       "69440       MLA9999792386      0      0      0      0      0      1      0   \n",
       "\n",
       "id_no_pago  MLAMS  MLAOT  MLATB  MLAVE  MLAVS  MLAWC  MLAWT  \n",
       "0               0      0      1      0      0      0      0  \n",
       "1               0      0      0      0      0      0      0  \n",
       "2               0      0      0      0      0      0      0  \n",
       "3               0      1      1      0      0      1      0  \n",
       "4               0      0      1      0      0      0      0  \n",
       "...           ...    ...    ...    ...    ...    ...    ...  \n",
       "69436           0      0      1      0      0      0      0  \n",
       "69437           0      1      1      0      0      0      0  \n",
       "69438           0      0      1      0      0      1      0  \n",
       "69439           0      0      0      0      0      1      0  \n",
       "69440           0      0      0      0      0      0      0  \n",
       "\n",
       "[69441 rows x 15 columns]"
      ]
     },
     "execution_count": 11,
     "metadata": {},
     "output_type": "execute_result"
    }
   ],
   "source": [
    "pd_no_pago_pivot = pd_integracion\\\n",
    "                        .pivot(index='id', columns='id_no_pago', values='type')\\\n",
    "                        .fillna(0)\\\n",
    "                        .replace('G',1)\\\n",
    "                        .replace('N',1)\\\n",
    "                        .replace('C',1)\\\n",
    "                        .replace('D',1)\\\n",
    "                        .reset_index(drop=False)\\\n",
    "                        .copy()\n",
    "\n",
    "pd_no_pago_pivot"
   ]
  },
  {
   "cell_type": "markdown",
   "metadata": {},
   "source": [
    "Creating features"
   ]
  },
  {
   "cell_type": "code",
   "execution_count": 12,
   "metadata": {},
   "outputs": [],
   "source": [
    "# shipping\n",
    "data_dict['local_pick_up'] = [x.get('local_pick_up') for x in data_dict['shipping']]\n",
    "data_dict['free_shipping'] = [x.get('free_shipping') for x in data_dict['shipping']]\n",
    "data_dict['mode'] = [x.get('mode') for x in data_dict['shipping']]"
   ]
  },
  {
   "cell_type": "code",
   "execution_count": 13,
   "metadata": {},
   "outputs": [],
   "source": [
    "# seller_address\n",
    "data_dict['seller_address_country'] = [x.get('country').get('id')  for x in data_dict['seller_address']]\n",
    "data_dict['seller_address_state'] = [x.get('state').get('id')  for x in data_dict['seller_address']]\n",
    "data_dict['seller_address_city'] = [x.get('city').get('id')  for x in data_dict['seller_address']]"
   ]
  },
  {
   "cell_type": "code",
   "execution_count": 14,
   "metadata": {},
   "outputs": [],
   "source": [
    "#tags\n",
    "data_dict['tags_no_list'] = [x[0] if x!=[] else 'no_tags' for x in data_dict['tags']  ]"
   ]
  },
  {
   "cell_type": "code",
   "execution_count": 15,
   "metadata": {},
   "outputs": [],
   "source": [
    "# variations\n",
    "data_dict['variations_new'] = [1 if x!=[] else 0 for x in data_dict['variations']  ]"
   ]
  },
  {
   "cell_type": "code",
   "execution_count": 16,
   "metadata": {},
   "outputs": [],
   "source": [
    "# deal_ids\n",
    "data_dict['deal_ids_new'] = [1 if x!=[] else 0 for x in data_dict['deal_ids']  ]"
   ]
  },
  {
   "cell_type": "code",
   "execution_count": 17,
   "metadata": {},
   "outputs": [],
   "source": [
    "# video_id\n",
    "data_dict['video_id_new'] = [1 if x!=None else 0 for x in data_dict['video_id']  ]"
   ]
  },
  {
   "cell_type": "code",
   "execution_count": 18,
   "metadata": {},
   "outputs": [],
   "source": [
    "# attributes\n",
    "data_dict['attributes_new'] = [1 if x!=[] else 0 for x in data_dict['attributes']  ]"
   ]
  },
  {
   "cell_type": "markdown",
   "metadata": {},
   "source": [
    "### Pandas Data Frame"
   ]
  },
  {
   "cell_type": "code",
   "execution_count": 19,
   "metadata": {},
   "outputs": [],
   "source": [
    "# features dropped\n",
    "features_dropped = ['non_mercado_pago_payment_methods',\n",
    "                    'permalink',\n",
    "                    'secure_thumbnail',\n",
    "                    'shipping',\n",
    "                    'seller_address',\n",
    "                    'pictures',\n",
    "                    'thumbnail',\n",
    "                    'tags',\n",
    "                    'variations',\n",
    "                    'deal_ids',\n",
    "                    'video_id',\n",
    "                    'attributes'\n",
    "                    ]\n",
    "\n",
    "for feature in features_dropped:\n",
    "    del data_dict[feature]"
   ]
  },
  {
   "cell_type": "code",
   "execution_count": 20,
   "metadata": {},
   "outputs": [],
   "source": [
    "#==============\n",
    "def condition_format(x):\n",
    "    \"\"\"\n",
    "    Condition boolean\n",
    "    \"\"\"\n",
    "\n",
    "    if x=='new':\n",
    "        return 1\n",
    "    elif x=='used':\n",
    "        return 0\n",
    "    else:\n",
    "        return x\n",
    "#==============\n",
    "\n",
    "\n",
    "# DataFrame\n",
    "pd_data = pd.DataFrame(data_dict)\n",
    "pd_data['condition_new'] = pd_data['condition'].apply(condition_format,1)"
   ]
  },
  {
   "cell_type": "code",
   "execution_count": 21,
   "metadata": {},
   "outputs": [],
   "source": [
    "booleano = ['accepts_mercadopago',\n",
    "            'automatic_relist',\n",
    "            'local_pick_up',\n",
    "            'free_shipping',\n",
    "            ]\n",
    "\n",
    "for value in booleano:\n",
    "    pd_data[value] = pd_data[value].apply(lambda x: 1*x,1)"
   ]
  },
  {
   "cell_type": "markdown",
   "metadata": {},
   "source": [
    "warranty"
   ]
  },
  {
   "cell_type": "code",
   "execution_count": 22,
   "metadata": {},
   "outputs": [],
   "source": [
    "#===================\n",
    "def warranty_yes_function(x):\n",
    "    if x is None:\n",
    "        return 0\n",
    "    elif x.upper().find('OFICIAL')>0 or\\\n",
    "        x.upper() == 'SI' or\\\n",
    "        x.upper().find('ANO')>0 or\\\n",
    "        x.upper().find('FABRICA')>0 or\\\n",
    "        x.upper().find('NUEVO')>0 or\\\n",
    "        x.upper().find('REPUTACION')>0 or\\\n",
    "        x.upper().find('MESES')>0:\n",
    "        return 1\n",
    "    else:\n",
    "        return 0\n",
    "#===================\n",
    "\n",
    "pd_data['warranty_yes'] = pd_data['warranty'].apply(warranty_yes_function)\n",
    "\n",
    "\n",
    "#===================\n",
    "def warranty_no_function(x):\n",
    "    if x is None:\n",
    "        return 0\n",
    "    elif x.upper().find('USAD')>0 or\\\n",
    "        x.upper() == 'NO' or\\\n",
    "        x.upper().find('VIEJ')>0 or\\\n",
    "        x.upper().find('SIN GARANTIA')>0:\n",
    "        return 1\n",
    "    else:\n",
    "        return 0\n",
    "#===================\n",
    "\n",
    "pd_data['warranty_no'] = pd_data['warranty'].apply(warranty_no_function)"
   ]
  },
  {
   "cell_type": "markdown",
   "metadata": {},
   "source": [
    "official_store_id"
   ]
  },
  {
   "cell_type": "code",
   "execution_count": 23,
   "metadata": {},
   "outputs": [],
   "source": [
    "pd_data['official_store_id_new'] = pd_data['official_store_id'].apply(lambda x: 0 if np.isnan(x) else 1)"
   ]
  },
  {
   "cell_type": "markdown",
   "metadata": {},
   "source": [
    "title"
   ]
  },
  {
   "cell_type": "code",
   "execution_count": 24,
   "metadata": {},
   "outputs": [],
   "source": [
    "pd_data['title_new'] = pd_data['title'].apply(lambda x: 1 if x.upper().find('NUEV')>0 or\\\n",
    "                                                                                     x.upper().find('NEW')>0 or\\\n",
    "                                                                                     x.upper().find('ESTREN')>0\\\n",
    "                                                                                    else 0)\n",
    "\n",
    "pd_data['title_usado'] = pd_data['title'].apply(lambda x: 1 if x.upper().find('USAD')>0 or\\\n",
    "                                                                x.upper().find('VIEJ')>0 or\\\n",
    "                                                                x.upper().find('ANTIGU')>0\\\n",
    "                                                            else 0)"
   ]
  },
  {
   "cell_type": "code",
   "execution_count": 25,
   "metadata": {},
   "outputs": [],
   "source": [
    "pd_final = pd.merge(pd_data,pd_no_pago_pivot,on='id',how='left')\n",
    "pd_final = pd_final.drop(['title','official_store_id','warranty'],axis=1).copy()"
   ]
  },
  {
   "cell_type": "code",
   "execution_count": 26,
   "metadata": {},
   "outputs": [],
   "source": [
    "# save data\n",
    "pd_final.to_pickle('./data/data_base.pkl')"
   ]
  }
 ],
 "metadata": {
  "kernelspec": {
   "display_name": "Python 3.9.0 ('analisis')",
   "language": "python",
   "name": "python3"
  },
  "language_info": {
   "codemirror_mode": {
    "name": "ipython",
    "version": 3
   },
   "file_extension": ".py",
   "mimetype": "text/x-python",
   "name": "python",
   "nbconvert_exporter": "python",
   "pygments_lexer": "ipython3",
   "version": "3.9.0"
  },
  "orig_nbformat": 4,
  "vscode": {
   "interpreter": {
    "hash": "cd1b4e18fb74f565c8fc9642e64dc5ff934c7c3ac8741d3f6831ae7dbdee96fd"
   }
  }
 },
 "nbformat": 4,
 "nbformat_minor": 2
}
