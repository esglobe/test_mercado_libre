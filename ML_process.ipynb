{
 "cells": [
  {
   "cell_type": "markdown",
   "metadata": {},
   "source": [
    "# Training model\n",
    "\n",
    "By: Javier Martínez"
   ]
  },
  {
   "cell_type": "code",
   "execution_count": 1,
   "metadata": {},
   "outputs": [],
   "source": [
    "import pandas as pd\n",
    "import numpy as np\n",
    "from datetime import datetime\n",
    "\n",
    "from sklearn.preprocessing import MinMaxScaler\n",
    "from sklearn.model_selection import train_test_split\n",
    "from sklearn.metrics import (classification_report, confusion_matrix, ConfusionMatrixDisplay,\\\n",
    "                             accuracy_score,precision_score,recall_score, roc_curve, auc)\n",
    "\n",
    "from sklearn.tree import DecisionTreeClassifier\n",
    "from sklearn.ensemble import RandomForestClassifier,GradientBoostingClassifier\n",
    "from sklearn.svm import SVC\n",
    "from xgboost import XGBClassifier\n",
    "\n",
    "import plotly.express as px"
   ]
  },
  {
   "cell_type": "markdown",
   "metadata": {},
   "source": [
    "Data Base"
   ]
  },
  {
   "cell_type": "code",
   "execution_count": 2,
   "metadata": {},
   "outputs": [],
   "source": [
    "pd_MeLi_ = pd.read_pickle('./data/data_base.pkl')\n",
    "pd_MeLi = pd_MeLi_.set_index('id',drop=True).copy()"
   ]
  },
  {
   "cell_type": "code",
   "execution_count": 3,
   "metadata": {},
   "outputs": [],
   "source": [
    "all_features = [# ===STR===\n",
    "                'buying_mode',\n",
    "                #'seller_address_country',\n",
    "                'seller_address_state',\n",
    "                'seller_address_city',\n",
    "                'status',\n",
    "                'listing_type_id',\n",
    "                #'category_id',\n",
    "                #'currency_id', \n",
    "                'tags_no_list',\n",
    "                'mode',\n",
    "\n",
    "                # ===Booleanos===\n",
    "                'accepts_mercadopago',\n",
    "                'automatic_relist',\n",
    "                'training_data',\n",
    "                'local_pick_up',\n",
    "                'free_shipping',\n",
    "                'condition_new', #<=======\n",
    "                'title_new',\n",
    "                'title_usado',\n",
    "                'warranty_no',\n",
    "                'warranty_yes',\n",
    "                'attributes_new',\n",
    "                'video_id_new',\n",
    "                'deal_ids_new',\n",
    "                'variations_new',\n",
    "                'official_store_id_new',\n",
    "                'MLAAM',\n",
    "                'MLABC',\t\n",
    "                'MLACD',\t\n",
    "                'MLADC',\t\n",
    "                'MLAMC',\t\n",
    "                'MLAMO',\t\n",
    "                'MLAMP',\n",
    "                'MLAMS',\t\n",
    "                'MLAOT',\n",
    "                'MLATB',\t\n",
    "                'MLAVE',\n",
    "                'MLAVS',\t\n",
    "                'MLAWC',\t\n",
    "                'MLAWT',\n",
    "\n",
    "                # ===Numero===\n",
    "                #'sold_quantity',\n",
    "                'base_price',\n",
    "                #'price',\n",
    "                #'seller_id',\n",
    "                'initial_quantity',\n",
    "                #'available_quantity',\n",
    "        ]\n",
    "\n",
    "\n",
    "pd_model = pd_MeLi[all_features].copy()"
   ]
  },
  {
   "cell_type": "code",
   "execution_count": 4,
   "metadata": {},
   "outputs": [],
   "source": [
    "dummies = ['buying_mode',\n",
    "            #'seller_address_country',\n",
    "            'seller_address_city',\n",
    "            'seller_address_state',\t\n",
    "            'status', \n",
    "            'listing_type_id',\n",
    "            'mode',\n",
    "            'tags_no_list'\n",
    "            ]\n",
    "\n",
    "pd_x_data = pd.get_dummies(pd_model,columns=dummies)"
   ]
  },
  {
   "cell_type": "markdown",
   "metadata": {},
   "source": [
    "MinMaxScaler"
   ]
  },
  {
   "cell_type": "code",
   "execution_count": 5,
   "metadata": {},
   "outputs": [
    {
     "data": {
      "text/html": [
       "<style>#sk-container-id-1 {color: black;background-color: white;}#sk-container-id-1 pre{padding: 0;}#sk-container-id-1 div.sk-toggleable {background-color: white;}#sk-container-id-1 label.sk-toggleable__label {cursor: pointer;display: block;width: 100%;margin-bottom: 0;padding: 0.3em;box-sizing: border-box;text-align: center;}#sk-container-id-1 label.sk-toggleable__label-arrow:before {content: \"▸\";float: left;margin-right: 0.25em;color: #696969;}#sk-container-id-1 label.sk-toggleable__label-arrow:hover:before {color: black;}#sk-container-id-1 div.sk-estimator:hover label.sk-toggleable__label-arrow:before {color: black;}#sk-container-id-1 div.sk-toggleable__content {max-height: 0;max-width: 0;overflow: hidden;text-align: left;background-color: #f0f8ff;}#sk-container-id-1 div.sk-toggleable__content pre {margin: 0.2em;color: black;border-radius: 0.25em;background-color: #f0f8ff;}#sk-container-id-1 input.sk-toggleable__control:checked~div.sk-toggleable__content {max-height: 200px;max-width: 100%;overflow: auto;}#sk-container-id-1 input.sk-toggleable__control:checked~label.sk-toggleable__label-arrow:before {content: \"▾\";}#sk-container-id-1 div.sk-estimator input.sk-toggleable__control:checked~label.sk-toggleable__label {background-color: #d4ebff;}#sk-container-id-1 div.sk-label input.sk-toggleable__control:checked~label.sk-toggleable__label {background-color: #d4ebff;}#sk-container-id-1 input.sk-hidden--visually {border: 0;clip: rect(1px 1px 1px 1px);clip: rect(1px, 1px, 1px, 1px);height: 1px;margin: -1px;overflow: hidden;padding: 0;position: absolute;width: 1px;}#sk-container-id-1 div.sk-estimator {font-family: monospace;background-color: #f0f8ff;border: 1px dotted black;border-radius: 0.25em;box-sizing: border-box;margin-bottom: 0.5em;}#sk-container-id-1 div.sk-estimator:hover {background-color: #d4ebff;}#sk-container-id-1 div.sk-parallel-item::after {content: \"\";width: 100%;border-bottom: 1px solid gray;flex-grow: 1;}#sk-container-id-1 div.sk-label:hover label.sk-toggleable__label {background-color: #d4ebff;}#sk-container-id-1 div.sk-serial::before {content: \"\";position: absolute;border-left: 1px solid gray;box-sizing: border-box;top: 0;bottom: 0;left: 50%;z-index: 0;}#sk-container-id-1 div.sk-serial {display: flex;flex-direction: column;align-items: center;background-color: white;padding-right: 0.2em;padding-left: 0.2em;position: relative;}#sk-container-id-1 div.sk-item {position: relative;z-index: 1;}#sk-container-id-1 div.sk-parallel {display: flex;align-items: stretch;justify-content: center;background-color: white;position: relative;}#sk-container-id-1 div.sk-item::before, #sk-container-id-1 div.sk-parallel-item::before {content: \"\";position: absolute;border-left: 1px solid gray;box-sizing: border-box;top: 0;bottom: 0;left: 50%;z-index: -1;}#sk-container-id-1 div.sk-parallel-item {display: flex;flex-direction: column;z-index: 1;position: relative;background-color: white;}#sk-container-id-1 div.sk-parallel-item:first-child::after {align-self: flex-end;width: 50%;}#sk-container-id-1 div.sk-parallel-item:last-child::after {align-self: flex-start;width: 50%;}#sk-container-id-1 div.sk-parallel-item:only-child::after {width: 0;}#sk-container-id-1 div.sk-dashed-wrapped {border: 1px dashed gray;margin: 0 0.4em 0.5em 0.4em;box-sizing: border-box;padding-bottom: 0.4em;background-color: white;}#sk-container-id-1 div.sk-label label {font-family: monospace;font-weight: bold;display: inline-block;line-height: 1.2em;}#sk-container-id-1 div.sk-label-container {text-align: center;}#sk-container-id-1 div.sk-container {/* jupyter's `normalize.less` sets `[hidden] { display: none; }` but bootstrap.min.css set `[hidden] { display: none !important; }` so we also need the `!important` here to be able to override the default hidden behavior on the sphinx rendered scikit-learn.org. See: https://github.com/scikit-learn/scikit-learn/issues/21755 */display: inline-block !important;position: relative;}#sk-container-id-1 div.sk-text-repr-fallback {display: none;}</style><div id=\"sk-container-id-1\" class=\"sk-top-container\"><div class=\"sk-text-repr-fallback\"><pre>MinMaxScaler()</pre><b>In a Jupyter environment, please rerun this cell to show the HTML representation or trust the notebook. <br />On GitHub, the HTML representation is unable to render, please try loading this page with nbviewer.org.</b></div><div class=\"sk-container\" hidden><div class=\"sk-item\"><div class=\"sk-estimator sk-toggleable\"><input class=\"sk-toggleable__control sk-hidden--visually\" id=\"sk-estimator-id-1\" type=\"checkbox\" checked><label for=\"sk-estimator-id-1\" class=\"sk-toggleable__label sk-toggleable__label-arrow\">MinMaxScaler</label><div class=\"sk-toggleable__content\"><pre>MinMaxScaler()</pre></div></div></div></div></div>"
      ],
      "text/plain": [
       "MinMaxScaler()"
      ]
     },
     "execution_count": 5,
     "metadata": {},
     "output_type": "execute_result"
    }
   ],
   "source": [
    "numbers = [ #'sold_quantity',\n",
    "            'base_price',\n",
    "            #'price', \n",
    "            #'seller_id',\n",
    "            'initial_quantity', \n",
    "            #'available_quantity',\n",
    "            ]\n",
    "\n",
    "scaler = MinMaxScaler()\n",
    "scaler.fit(pd_x_data[numbers])"
   ]
  },
  {
   "cell_type": "code",
   "execution_count": 6,
   "metadata": {},
   "outputs": [],
   "source": [
    "pd_x_data[numbers] = scaler.transform(pd_x_data[numbers])"
   ]
  },
  {
   "cell_type": "code",
   "execution_count": 7,
   "metadata": {},
   "outputs": [],
   "source": [
    "# TARGET\n",
    "out = 'condition_new'"
   ]
  },
  {
   "cell_type": "markdown",
   "metadata": {},
   "source": [
    "Data for Model"
   ]
  },
  {
   "cell_type": "code",
   "execution_count": 8,
   "metadata": {},
   "outputs": [
    {
     "data": {
      "text/html": [
       "<div>\n",
       "<style scoped>\n",
       "    .dataframe tbody tr th:only-of-type {\n",
       "        vertical-align: middle;\n",
       "    }\n",
       "\n",
       "    .dataframe tbody tr th {\n",
       "        vertical-align: top;\n",
       "    }\n",
       "\n",
       "    .dataframe thead th {\n",
       "        text-align: right;\n",
       "    }\n",
       "</style>\n",
       "<table border=\"1\" class=\"dataframe\">\n",
       "  <thead>\n",
       "    <tr style=\"text-align: right;\">\n",
       "      <th></th>\n",
       "      <th>accepts_mercadopago</th>\n",
       "      <th>automatic_relist</th>\n",
       "      <th>local_pick_up</th>\n",
       "      <th>free_shipping</th>\n",
       "      <th>title_new</th>\n",
       "      <th>title_usado</th>\n",
       "      <th>warranty_no</th>\n",
       "      <th>warranty_yes</th>\n",
       "      <th>attributes_new</th>\n",
       "      <th>video_id_new</th>\n",
       "      <th>...</th>\n",
       "      <th>listing_type_id_silver</th>\n",
       "      <th>mode_custom</th>\n",
       "      <th>mode_me1</th>\n",
       "      <th>mode_me2</th>\n",
       "      <th>mode_not_specified</th>\n",
       "      <th>tags_no_list_dragged_bids_and_visits</th>\n",
       "      <th>tags_no_list_dragged_visits</th>\n",
       "      <th>tags_no_list_good_quality_thumbnail</th>\n",
       "      <th>tags_no_list_no_tags</th>\n",
       "      <th>tags_no_list_poor_quality_thumbnail</th>\n",
       "    </tr>\n",
       "    <tr>\n",
       "      <th>id</th>\n",
       "      <th></th>\n",
       "      <th></th>\n",
       "      <th></th>\n",
       "      <th></th>\n",
       "      <th></th>\n",
       "      <th></th>\n",
       "      <th></th>\n",
       "      <th></th>\n",
       "      <th></th>\n",
       "      <th></th>\n",
       "      <th></th>\n",
       "      <th></th>\n",
       "      <th></th>\n",
       "      <th></th>\n",
       "      <th></th>\n",
       "      <th></th>\n",
       "      <th></th>\n",
       "      <th></th>\n",
       "      <th></th>\n",
       "      <th></th>\n",
       "      <th></th>\n",
       "    </tr>\n",
       "  </thead>\n",
       "  <tbody>\n",
       "    <tr>\n",
       "      <th>MLA4695330653</th>\n",
       "      <td>1.0</td>\n",
       "      <td>0.0</td>\n",
       "      <td>1.0</td>\n",
       "      <td>0.0</td>\n",
       "      <td>0.0</td>\n",
       "      <td>0.0</td>\n",
       "      <td>0.0</td>\n",
       "      <td>0.0</td>\n",
       "      <td>0.0</td>\n",
       "      <td>0.0</td>\n",
       "      <td>...</td>\n",
       "      <td>0.0</td>\n",
       "      <td>0.0</td>\n",
       "      <td>0.0</td>\n",
       "      <td>0.0</td>\n",
       "      <td>1.0</td>\n",
       "      <td>1.0</td>\n",
       "      <td>0.0</td>\n",
       "      <td>0.0</td>\n",
       "      <td>0.0</td>\n",
       "      <td>0.0</td>\n",
       "    </tr>\n",
       "    <tr>\n",
       "      <th>MLA7160447179</th>\n",
       "      <td>1.0</td>\n",
       "      <td>0.0</td>\n",
       "      <td>1.0</td>\n",
       "      <td>0.0</td>\n",
       "      <td>0.0</td>\n",
       "      <td>0.0</td>\n",
       "      <td>0.0</td>\n",
       "      <td>1.0</td>\n",
       "      <td>0.0</td>\n",
       "      <td>0.0</td>\n",
       "      <td>...</td>\n",
       "      <td>1.0</td>\n",
       "      <td>0.0</td>\n",
       "      <td>0.0</td>\n",
       "      <td>1.0</td>\n",
       "      <td>0.0</td>\n",
       "      <td>0.0</td>\n",
       "      <td>0.0</td>\n",
       "      <td>0.0</td>\n",
       "      <td>1.0</td>\n",
       "      <td>0.0</td>\n",
       "    </tr>\n",
       "    <tr>\n",
       "      <th>MLA7367189936</th>\n",
       "      <td>1.0</td>\n",
       "      <td>0.0</td>\n",
       "      <td>1.0</td>\n",
       "      <td>0.0</td>\n",
       "      <td>0.0</td>\n",
       "      <td>0.0</td>\n",
       "      <td>0.0</td>\n",
       "      <td>0.0</td>\n",
       "      <td>0.0</td>\n",
       "      <td>0.0</td>\n",
       "      <td>...</td>\n",
       "      <td>0.0</td>\n",
       "      <td>0.0</td>\n",
       "      <td>0.0</td>\n",
       "      <td>1.0</td>\n",
       "      <td>0.0</td>\n",
       "      <td>1.0</td>\n",
       "      <td>0.0</td>\n",
       "      <td>0.0</td>\n",
       "      <td>0.0</td>\n",
       "      <td>0.0</td>\n",
       "    </tr>\n",
       "  </tbody>\n",
       "</table>\n",
       "<p>3 rows × 372 columns</p>\n",
       "</div>"
      ],
      "text/plain": [
       "               accepts_mercadopago  automatic_relist  local_pick_up  \\\n",
       "id                                                                    \n",
       "MLA4695330653                  1.0               0.0            1.0   \n",
       "MLA7160447179                  1.0               0.0            1.0   \n",
       "MLA7367189936                  1.0               0.0            1.0   \n",
       "\n",
       "               free_shipping  title_new  title_usado  warranty_no  \\\n",
       "id                                                                  \n",
       "MLA4695330653            0.0        0.0          0.0          0.0   \n",
       "MLA7160447179            0.0        0.0          0.0          0.0   \n",
       "MLA7367189936            0.0        0.0          0.0          0.0   \n",
       "\n",
       "               warranty_yes  attributes_new  video_id_new  ...  \\\n",
       "id                                                         ...   \n",
       "MLA4695330653           0.0             0.0           0.0  ...   \n",
       "MLA7160447179           1.0             0.0           0.0  ...   \n",
       "MLA7367189936           0.0             0.0           0.0  ...   \n",
       "\n",
       "               listing_type_id_silver  mode_custom  mode_me1  mode_me2  \\\n",
       "id                                                                       \n",
       "MLA4695330653                     0.0          0.0       0.0       0.0   \n",
       "MLA7160447179                     1.0          0.0       0.0       1.0   \n",
       "MLA7367189936                     0.0          0.0       0.0       1.0   \n",
       "\n",
       "               mode_not_specified  tags_no_list_dragged_bids_and_visits  \\\n",
       "id                                                                        \n",
       "MLA4695330653                 1.0                                   1.0   \n",
       "MLA7160447179                 0.0                                   0.0   \n",
       "MLA7367189936                 0.0                                   1.0   \n",
       "\n",
       "               tags_no_list_dragged_visits  \\\n",
       "id                                           \n",
       "MLA4695330653                          0.0   \n",
       "MLA7160447179                          0.0   \n",
       "MLA7367189936                          0.0   \n",
       "\n",
       "               tags_no_list_good_quality_thumbnail  tags_no_list_no_tags  \\\n",
       "id                                                                         \n",
       "MLA4695330653                                  0.0                   0.0   \n",
       "MLA7160447179                                  0.0                   1.0   \n",
       "MLA7367189936                                  0.0                   0.0   \n",
       "\n",
       "               tags_no_list_poor_quality_thumbnail  \n",
       "id                                                  \n",
       "MLA4695330653                                  0.0  \n",
       "MLA7160447179                                  0.0  \n",
       "MLA7367189936                                  0.0  \n",
       "\n",
       "[3 rows x 372 columns]"
      ]
     },
     "execution_count": 8,
     "metadata": {},
     "output_type": "execute_result"
    }
   ],
   "source": [
    "# Training data\n",
    "pandas_x_training = pd_x_data.query('training_data==1').copy().fillna(0).astype(float)\n",
    "pandas_y_training = pandas_x_training[out].astype(int)\n",
    "pandas_x_training.drop(labels=['training_data',out],axis=1,inplace=True)\n",
    "pandas_x_training.head(3)"
   ]
  },
  {
   "cell_type": "code",
   "execution_count": 9,
   "metadata": {},
   "outputs": [
    {
     "data": {
      "text/plain": [
       "90000"
      ]
     },
     "execution_count": 9,
     "metadata": {},
     "output_type": "execute_result"
    }
   ],
   "source": [
    "pandas_x_training.shape[0]"
   ]
  },
  {
   "cell_type": "code",
   "execution_count": 10,
   "metadata": {},
   "outputs": [
    {
     "data": {
      "text/html": [
       "<div>\n",
       "<style scoped>\n",
       "    .dataframe tbody tr th:only-of-type {\n",
       "        vertical-align: middle;\n",
       "    }\n",
       "\n",
       "    .dataframe tbody tr th {\n",
       "        vertical-align: top;\n",
       "    }\n",
       "\n",
       "    .dataframe thead th {\n",
       "        text-align: right;\n",
       "    }\n",
       "</style>\n",
       "<table border=\"1\" class=\"dataframe\">\n",
       "  <thead>\n",
       "    <tr style=\"text-align: right;\">\n",
       "      <th></th>\n",
       "      <th>accepts_mercadopago</th>\n",
       "      <th>automatic_relist</th>\n",
       "      <th>local_pick_up</th>\n",
       "      <th>free_shipping</th>\n",
       "      <th>title_new</th>\n",
       "      <th>title_usado</th>\n",
       "      <th>warranty_no</th>\n",
       "      <th>warranty_yes</th>\n",
       "      <th>attributes_new</th>\n",
       "      <th>video_id_new</th>\n",
       "      <th>...</th>\n",
       "      <th>listing_type_id_silver</th>\n",
       "      <th>mode_custom</th>\n",
       "      <th>mode_me1</th>\n",
       "      <th>mode_me2</th>\n",
       "      <th>mode_not_specified</th>\n",
       "      <th>tags_no_list_dragged_bids_and_visits</th>\n",
       "      <th>tags_no_list_dragged_visits</th>\n",
       "      <th>tags_no_list_good_quality_thumbnail</th>\n",
       "      <th>tags_no_list_no_tags</th>\n",
       "      <th>tags_no_list_poor_quality_thumbnail</th>\n",
       "    </tr>\n",
       "    <tr>\n",
       "      <th>id</th>\n",
       "      <th></th>\n",
       "      <th></th>\n",
       "      <th></th>\n",
       "      <th></th>\n",
       "      <th></th>\n",
       "      <th></th>\n",
       "      <th></th>\n",
       "      <th></th>\n",
       "      <th></th>\n",
       "      <th></th>\n",
       "      <th></th>\n",
       "      <th></th>\n",
       "      <th></th>\n",
       "      <th></th>\n",
       "      <th></th>\n",
       "      <th></th>\n",
       "      <th></th>\n",
       "      <th></th>\n",
       "      <th></th>\n",
       "      <th></th>\n",
       "      <th></th>\n",
       "    </tr>\n",
       "  </thead>\n",
       "  <tbody>\n",
       "    <tr>\n",
       "      <th>MLA9379759063</th>\n",
       "      <td>1.0</td>\n",
       "      <td>0.0</td>\n",
       "      <td>1.0</td>\n",
       "      <td>0.0</td>\n",
       "      <td>0.0</td>\n",
       "      <td>0.0</td>\n",
       "      <td>0.0</td>\n",
       "      <td>0.0</td>\n",
       "      <td>0.0</td>\n",
       "      <td>0.0</td>\n",
       "      <td>...</td>\n",
       "      <td>1.0</td>\n",
       "      <td>1.0</td>\n",
       "      <td>0.0</td>\n",
       "      <td>0.0</td>\n",
       "      <td>0.0</td>\n",
       "      <td>1.0</td>\n",
       "      <td>0.0</td>\n",
       "      <td>0.0</td>\n",
       "      <td>0.0</td>\n",
       "      <td>0.0</td>\n",
       "    </tr>\n",
       "    <tr>\n",
       "      <th>MLA8701321701</th>\n",
       "      <td>1.0</td>\n",
       "      <td>0.0</td>\n",
       "      <td>0.0</td>\n",
       "      <td>0.0</td>\n",
       "      <td>0.0</td>\n",
       "      <td>0.0</td>\n",
       "      <td>0.0</td>\n",
       "      <td>0.0</td>\n",
       "      <td>0.0</td>\n",
       "      <td>0.0</td>\n",
       "      <td>...</td>\n",
       "      <td>0.0</td>\n",
       "      <td>0.0</td>\n",
       "      <td>0.0</td>\n",
       "      <td>0.0</td>\n",
       "      <td>1.0</td>\n",
       "      <td>1.0</td>\n",
       "      <td>0.0</td>\n",
       "      <td>0.0</td>\n",
       "      <td>0.0</td>\n",
       "      <td>0.0</td>\n",
       "    </tr>\n",
       "    <tr>\n",
       "      <th>MLA7219741922</th>\n",
       "      <td>1.0</td>\n",
       "      <td>0.0</td>\n",
       "      <td>0.0</td>\n",
       "      <td>0.0</td>\n",
       "      <td>0.0</td>\n",
       "      <td>0.0</td>\n",
       "      <td>0.0</td>\n",
       "      <td>0.0</td>\n",
       "      <td>0.0</td>\n",
       "      <td>0.0</td>\n",
       "      <td>...</td>\n",
       "      <td>0.0</td>\n",
       "      <td>0.0</td>\n",
       "      <td>0.0</td>\n",
       "      <td>1.0</td>\n",
       "      <td>0.0</td>\n",
       "      <td>1.0</td>\n",
       "      <td>0.0</td>\n",
       "      <td>0.0</td>\n",
       "      <td>0.0</td>\n",
       "      <td>0.0</td>\n",
       "    </tr>\n",
       "  </tbody>\n",
       "</table>\n",
       "<p>3 rows × 372 columns</p>\n",
       "</div>"
      ],
      "text/plain": [
       "               accepts_mercadopago  automatic_relist  local_pick_up  \\\n",
       "id                                                                    \n",
       "MLA9379759063                  1.0               0.0            1.0   \n",
       "MLA8701321701                  1.0               0.0            0.0   \n",
       "MLA7219741922                  1.0               0.0            0.0   \n",
       "\n",
       "               free_shipping  title_new  title_usado  warranty_no  \\\n",
       "id                                                                  \n",
       "MLA9379759063            0.0        0.0          0.0          0.0   \n",
       "MLA8701321701            0.0        0.0          0.0          0.0   \n",
       "MLA7219741922            0.0        0.0          0.0          0.0   \n",
       "\n",
       "               warranty_yes  attributes_new  video_id_new  ...  \\\n",
       "id                                                         ...   \n",
       "MLA9379759063           0.0             0.0           0.0  ...   \n",
       "MLA8701321701           0.0             0.0           0.0  ...   \n",
       "MLA7219741922           0.0             0.0           0.0  ...   \n",
       "\n",
       "               listing_type_id_silver  mode_custom  mode_me1  mode_me2  \\\n",
       "id                                                                       \n",
       "MLA9379759063                     1.0          1.0       0.0       0.0   \n",
       "MLA8701321701                     0.0          0.0       0.0       0.0   \n",
       "MLA7219741922                     0.0          0.0       0.0       1.0   \n",
       "\n",
       "               mode_not_specified  tags_no_list_dragged_bids_and_visits  \\\n",
       "id                                                                        \n",
       "MLA9379759063                 0.0                                   1.0   \n",
       "MLA8701321701                 1.0                                   1.0   \n",
       "MLA7219741922                 0.0                                   1.0   \n",
       "\n",
       "               tags_no_list_dragged_visits  \\\n",
       "id                                           \n",
       "MLA9379759063                          0.0   \n",
       "MLA8701321701                          0.0   \n",
       "MLA7219741922                          0.0   \n",
       "\n",
       "               tags_no_list_good_quality_thumbnail  tags_no_list_no_tags  \\\n",
       "id                                                                         \n",
       "MLA9379759063                                  0.0                   0.0   \n",
       "MLA8701321701                                  0.0                   0.0   \n",
       "MLA7219741922                                  0.0                   0.0   \n",
       "\n",
       "               tags_no_list_poor_quality_thumbnail  \n",
       "id                                                  \n",
       "MLA9379759063                                  0.0  \n",
       "MLA8701321701                                  0.0  \n",
       "MLA7219741922                                  0.0  \n",
       "\n",
       "[3 rows x 372 columns]"
      ]
     },
     "execution_count": 10,
     "metadata": {},
     "output_type": "execute_result"
    }
   ],
   "source": [
    "# Test Data\n",
    "pandas_x_test = pd_x_data.query('training_data==0').copy().fillna(0).astype(float)\n",
    "pandas_y_test = pandas_x_test[[out]].astype(int)\n",
    "pandas_x_test.drop(labels=['training_data',out],axis=1,inplace=True)\n",
    "pandas_x_test.head(3)"
   ]
  },
  {
   "cell_type": "code",
   "execution_count": 11,
   "metadata": {},
   "outputs": [
    {
     "data": {
      "text/plain": [
       "10000"
      ]
     },
     "execution_count": 11,
     "metadata": {},
     "output_type": "execute_result"
    }
   ],
   "source": [
    "pandas_x_test.shape[0]"
   ]
  },
  {
   "cell_type": "markdown",
   "metadata": {},
   "source": [
    "### Training Models"
   ]
  },
  {
   "cell_type": "markdown",
   "metadata": {},
   "source": [
    "eXtreme Gradient Boosting"
   ]
  },
  {
   "cell_type": "code",
   "execution_count": 12,
   "metadata": {},
   "outputs": [],
   "source": [
    "seed = 1234"
   ]
  },
  {
   "cell_type": "code",
   "execution_count": 13,
   "metadata": {},
   "outputs": [],
   "source": [
    "class XGB_MODEL():\n",
    "    \"\"\"\n",
    "    model training\n",
    "    \"\"\"\n",
    "\n",
    "    def __init__(self,pandas_x_training,\n",
    "                    pandas_y_training,\n",
    "                    pandas_x_test,\n",
    "                    pandas_y_test):\n",
    "\n",
    "        self.pandas_x_training = pandas_x_training\n",
    "        self.pandas_y_training = pandas_y_training\n",
    "        self.pandas_x_test = pandas_x_test\n",
    "        self.pandas_y_test = pandas_y_test\n",
    "\n",
    "    def training(self,n_estimators):\n",
    "\n",
    "        self.n_estimators = n_estimators\n",
    "\n",
    "        np.random.seed(seed)\n",
    "        # Model\n",
    "        self.model = XGBClassifier(n_estimators=n_estimators,\n",
    "                                   verbosity=0)\n",
    "\n",
    "        # Fit\n",
    "        self.model.fit(self.pandas_x_training.values,\n",
    "                      self.pandas_y_training.values\n",
    "                    )\n",
    "\n",
    "        # Metrics\n",
    "        self.prediction = self.model.predict(pandas_x_test.values)\n",
    "        self.accuracy = accuracy_score(self.pandas_y_test.values, self.prediction)\n",
    "        self.precision = precision_score(pandas_y_test.values, self.prediction)\n",
    "        self.recall =recall_score(self.pandas_y_test.values, self.prediction)\n",
    "\n",
    "        fpr, tpr, thresholds = roc_curve(self.pandas_y_test.values, self.prediction, pos_label=1)\n",
    "        self.auc = auc(fpr, tpr)\n",
    "\n",
    "        self.confusion_matrix = confusion_matrix(self.pandas_y_test.values,self.prediction)\n",
    "\n",
    "        # Plot\n",
    "        self.plot_matrix = ConfusionMatrixDisplay(confusion_matrix=self.confusion_matrix)\n",
    "\n",
    "        # Summary\n",
    "        self.summary = pd.DataFrame({'accuracy':self.accuracy,\n",
    "                                    'precision':self.precision,\n",
    "                                    'recall':self.recall,\n",
    "                                    'auc':self.auc,\n",
    "                                    'n_estimators':n_estimators},index=[0])\n",
    "\n",
    "    @staticmethod\n",
    "    def select_model(n_estimators):\n",
    "        xgb_model = XGB_MODEL(pandas_x_training,\n",
    "                            pandas_y_training,\n",
    "                            pandas_x_test,\n",
    "                            pandas_y_test)\n",
    "        xgb_model.training(n_estimators=n_estimators)\n",
    "        return xgb_model"
   ]
  },
  {
   "cell_type": "markdown",
   "metadata": {},
   "source": [
    "Decision Tree "
   ]
  },
  {
   "cell_type": "code",
   "execution_count": 14,
   "metadata": {},
   "outputs": [],
   "source": [
    "\n",
    "class DecisionTree_MODEL():\n",
    "    \"\"\"\n",
    "    model training\n",
    "    \"\"\"\n",
    "\n",
    "    def __init__(self,pandas_x_training,\n",
    "                    pandas_y_training,\n",
    "                    pandas_x_test,\n",
    "                    pandas_y_test):\n",
    "\n",
    "        self.pandas_x_training = pandas_x_training\n",
    "        self.pandas_y_training = pandas_y_training\n",
    "        self.pandas_x_test = pandas_x_test\n",
    "        self.pandas_y_test = pandas_y_test\n",
    "\n",
    "    def training(self,criterion='gini', splitter='best', max_depth=None):\n",
    "\n",
    "        np.random.seed(seed)\n",
    "        # Model\n",
    "        self.model = DecisionTreeClassifier(criterion=criterion, splitter=splitter, max_depth=max_depth)\n",
    "\n",
    "        # Fit\n",
    "        self.model.fit(self.pandas_x_training.values,\n",
    "                      self.pandas_y_training.values\n",
    "                    )\n",
    "\n",
    "        # Metrics\n",
    "        self.prediction = self.model.predict(pandas_x_test.values)\n",
    "        self.accuracy = accuracy_score(self.pandas_y_test.values, self.prediction)\n",
    "        self.precision = precision_score(pandas_y_test.values, self.prediction)\n",
    "        self.recall =recall_score(self.pandas_y_test.values, self.prediction)\n",
    "\n",
    "        fpr, tpr, thresholds = roc_curve(self.pandas_y_test.values, self.prediction, pos_label=1)\n",
    "        self.auc = auc(fpr, tpr)\n",
    "\n",
    "        self.confusion_matrix = confusion_matrix(self.pandas_y_test.values,self.prediction)\n",
    "\n",
    "        # Plot\n",
    "        self.plot_matrix = ConfusionMatrixDisplay(confusion_matrix=self.confusion_matrix)\n",
    "\n",
    "        # Summary\n",
    "        self.summary = pd.DataFrame({'accuracy':self.accuracy,\n",
    "                                    'precision':self.precision,\n",
    "                                    'recall':self.recall,\n",
    "                                    'auc':self.auc,\n",
    "                                    'criterion':criterion,\n",
    "                                    'splitter':splitter,\n",
    "                                    'max_depth':max_depth\n",
    "                                    },index=[0])\n",
    "                                    \n",
    "    @staticmethod\n",
    "    def select_model(criterion='gini', splitter='best', max_depth=None):\n",
    "\n",
    "        model = DecisionTree_MODEL(pandas_x_training,\n",
    "                                        pandas_y_training,\n",
    "                                        pandas_x_test,\n",
    "                                        pandas_y_test)\n",
    "        model.training(criterion=criterion, splitter=splitter, max_depth=max_depth)\n",
    "        return model"
   ]
  },
  {
   "cell_type": "markdown",
   "metadata": {},
   "source": [
    "RandomForest"
   ]
  },
  {
   "cell_type": "code",
   "execution_count": 15,
   "metadata": {},
   "outputs": [],
   "source": [
    "\n",
    "class RandomForestClassifier_MODEL():\n",
    "    \"\"\"\n",
    "    model training\n",
    "    \"\"\"\n",
    "\n",
    "    def __init__(self,pandas_x_training,\n",
    "                    pandas_y_training,\n",
    "                    pandas_x_test,\n",
    "                    pandas_y_test):\n",
    "\n",
    "        self.pandas_x_training = pandas_x_training\n",
    "        self.pandas_y_training = pandas_y_training\n",
    "        self.pandas_x_test = pandas_x_test\n",
    "        self.pandas_y_test = pandas_y_test\n",
    "\n",
    "    def training(self,n_estimators=100,criterion='gini', max_depth=None):\n",
    "\n",
    "        np.random.seed(seed)\n",
    "        # Model\n",
    "        self.model = RandomForestClassifier(n_estimators=n_estimators,criterion=criterion, max_depth=max_depth)\n",
    "\n",
    "        # Fit\n",
    "        self.model.fit(self.pandas_x_training.values,\n",
    "                      self.pandas_y_training.values\n",
    "                    )\n",
    "\n",
    "        # Metrics\n",
    "        self.prediction = self.model.predict(pandas_x_test.values)\n",
    "        self.accuracy = accuracy_score(self.pandas_y_test.values, self.prediction)\n",
    "        self.precision = precision_score(pandas_y_test.values, self.prediction)\n",
    "        self.recall =recall_score(self.pandas_y_test.values, self.prediction)\n",
    "\n",
    "        fpr, tpr, thresholds = roc_curve(self.pandas_y_test.values, self.prediction, pos_label=1)\n",
    "        self.auc = auc(fpr, tpr)\n",
    "\n",
    "        self.confusion_matrix = confusion_matrix(self.pandas_y_test.values,self.prediction)\n",
    "\n",
    "        # Plot\n",
    "        self.plot_matrix = ConfusionMatrixDisplay(confusion_matrix=self.confusion_matrix)\n",
    "\n",
    "        # Summary\n",
    "        self.summary = pd.DataFrame({'accuracy':self.accuracy,\n",
    "                                    'precision':self.precision,\n",
    "                                    'recall':self.recall,\n",
    "                                    'auc':self.auc,\n",
    "                                    'criterion':criterion,\n",
    "                                    'max_depth':max_depth,\n",
    "                                    'n_estimators':n_estimators\n",
    "                                    },index=[0])\n",
    "                                    \n",
    "    @staticmethod\n",
    "    def select_model(n_estimators=100,criterion='gini',max_depth=None):\n",
    "\n",
    "        model = RandomForestClassifier_MODEL(pandas_x_training,\n",
    "                                        pandas_y_training,\n",
    "                                        pandas_x_test,\n",
    "                                        pandas_y_test)\n",
    "        model.training(n_estimators=n_estimators,criterion=criterion, max_depth=max_depth)\n",
    "        return model"
   ]
  },
  {
   "cell_type": "markdown",
   "metadata": {},
   "source": [
    "Gradient boosting"
   ]
  },
  {
   "cell_type": "code",
   "execution_count": 16,
   "metadata": {},
   "outputs": [],
   "source": [
    "class GradientBoostingClassifier_Model():\n",
    "    \"\"\"\n",
    "    model training\n",
    "    \"\"\"\n",
    "\n",
    "    def __init__(self,pandas_x_training,\n",
    "                    pandas_y_training,\n",
    "                    pandas_x_test,\n",
    "                    pandas_y_test):\n",
    "\n",
    "        self.pandas_x_training = pandas_x_training\n",
    "        self.pandas_y_training = pandas_y_training\n",
    "        self.pandas_x_test = pandas_x_test\n",
    "        self.pandas_y_test = pandas_y_test\n",
    "\n",
    "    def training(self,learning_rate,n_estimators):\n",
    "\n",
    "        np.random.seed(seed)\n",
    "        # Model\n",
    "        self.model = GradientBoostingClassifier(learning_rate=learning_rate,n_estimators=n_estimators)\n",
    "\n",
    "        # Fit\n",
    "        self.model.fit(self.pandas_x_training.values,\n",
    "                      self.pandas_y_training.values\n",
    "                    )\n",
    "\n",
    "        # Metrics\n",
    "        self.prediction = self.model.predict(pandas_x_test.values)\n",
    "        self.accuracy = accuracy_score(self.pandas_y_test.values, self.prediction)\n",
    "        self.precision = precision_score(pandas_y_test.values, self.prediction)\n",
    "        self.recall =recall_score(self.pandas_y_test.values, self.prediction)\n",
    "\n",
    "        fpr, tpr, thresholds = roc_curve(self.pandas_y_test.values, self.prediction, pos_label=1)\n",
    "        self.auc = auc(fpr, tpr)\n",
    "\n",
    "        self.confusion_matrix = confusion_matrix(self.pandas_y_test.values,self.prediction)\n",
    "\n",
    "        # Plot\n",
    "        self.plot_matrix = ConfusionMatrixDisplay(confusion_matrix=self.confusion_matrix)\n",
    "\n",
    "        # Summary\n",
    "        self.summary = pd.DataFrame({'accuracy':self.accuracy,\n",
    "                                    'precision':self.precision,\n",
    "                                    'recall':self.recall,\n",
    "                                    'auc':self.auc,\n",
    "                                    'learning_rate':learning_rate,\n",
    "                                    'n_estimators':n_estimators\n",
    "                                    },index=[0])\n",
    "                                    \n",
    "    @staticmethod\n",
    "    def select_model(learning_rate,n_estimators):\n",
    "\n",
    "        model = GradientBoostingClassifier_Model(pandas_x_training,\n",
    "                                        pandas_y_training,\n",
    "                                        pandas_x_test,\n",
    "                                        pandas_y_test)\n",
    "        model.training( learning_rate=learning_rate, n_estimators=n_estimators)\n",
    "        return model"
   ]
  },
  {
   "cell_type": "markdown",
   "metadata": {},
   "source": [
    "Models"
   ]
  },
  {
   "cell_type": "code",
   "execution_count": 17,
   "metadata": {},
   "outputs": [],
   "source": [
    "#=====================\n",
    "#DecisionTree_MODEL\n",
    "#=====================\n",
    "DecisionTree_models = list(map(lambda x,y: DecisionTree_MODEL.select_model(criterion=x, splitter=y, max_depth=None),\\\n",
    "                                                                        ['gini','gini','entropy','entropy','log_loss','log_loss'],\n",
    "                                                                        ['best','random','best','random','best','random']\n",
    "                                                                        ))\n",
    "\n",
    "# Summary \n",
    "DecisionTree_summary = pd.concat(list(map(lambda x: x.summary, DecisionTree_models)))\n",
    "DecisionTree_summary.to_csv('./summary/dt.csv')\n",
    "DecisionTree_summary.round(2)"
   ]
  },
  {
   "cell_type": "code",
   "execution_count": 18,
   "metadata": {},
   "outputs": [],
   "source": [
    "#=====================\n",
    "#RandomForestClassifier_MODEL\n",
    "#=====================\n",
    "RandomForest_models = list(map(lambda x,y: RandomForestClassifier_MODEL.select_model(n_estimators=y, criterion=x, max_depth=None),\\\n",
    "                                                                                4*['entropy'],\n",
    "                                                                                [100,200,300,400]\n",
    "                                                                                ))\n",
    "\n",
    "# Summary \n",
    "RandomForest_summary = pd.concat(list(map(lambda x: x.summary, RandomForest_models)))\n",
    "RandomForest_summary.to_csv('./summary/rf.csv')\n",
    "RandomForest_summary.round(2)"
   ]
  },
  {
   "cell_type": "code",
   "execution_count": 19,
   "metadata": {},
   "outputs": [],
   "source": [
    "#=====================\n",
    "#GradientBoostingClassifier_Model\n",
    "#=====================\n",
    "GradientBoosting_models = list(map(lambda x,y: GradientBoostingClassifier_Model.select_model(learning_rate=x, n_estimators=y),\\\n",
    "                                                                                        [0.1,0.1,0.1,\n",
    "                                                                                         0.3,0.3,0.3],\n",
    "                                                                                        [100,200,300,\n",
    "                                                                                         100,200,300]\n",
    "                                                                                        ))\n",
    "\n",
    "# Summary \n",
    "GradientBoosting = pd.concat(list(map(lambda x: x.summary, GradientBoosting_models)))\n",
    "GradientBoosting.to_csv('./summary/gb.csv')\n",
    "GradientBoosting.round(2)"
   ]
  },
  {
   "cell_type": "code",
   "execution_count": 20,
   "metadata": {},
   "outputs": [
    {
     "data": {
      "text/html": [
       "<div>\n",
       "<style scoped>\n",
       "    .dataframe tbody tr th:only-of-type {\n",
       "        vertical-align: middle;\n",
       "    }\n",
       "\n",
       "    .dataframe tbody tr th {\n",
       "        vertical-align: top;\n",
       "    }\n",
       "\n",
       "    .dataframe thead th {\n",
       "        text-align: right;\n",
       "    }\n",
       "</style>\n",
       "<table border=\"1\" class=\"dataframe\">\n",
       "  <thead>\n",
       "    <tr style=\"text-align: right;\">\n",
       "      <th></th>\n",
       "      <th>accuracy</th>\n",
       "      <th>precision</th>\n",
       "      <th>recall</th>\n",
       "      <th>auc</th>\n",
       "      <th>n_estimators</th>\n",
       "    </tr>\n",
       "  </thead>\n",
       "  <tbody>\n",
       "    <tr>\n",
       "      <th>0</th>\n",
       "      <td>0.85</td>\n",
       "      <td>0.87</td>\n",
       "      <td>0.85</td>\n",
       "      <td>0.85</td>\n",
       "      <td>50</td>\n",
       "    </tr>\n",
       "    <tr>\n",
       "      <th>0</th>\n",
       "      <td>0.86</td>\n",
       "      <td>0.88</td>\n",
       "      <td>0.86</td>\n",
       "      <td>0.86</td>\n",
       "      <td>100</td>\n",
       "    </tr>\n",
       "    <tr>\n",
       "      <th>0</th>\n",
       "      <td>0.86</td>\n",
       "      <td>0.89</td>\n",
       "      <td>0.86</td>\n",
       "      <td>0.86</td>\n",
       "      <td>200</td>\n",
       "    </tr>\n",
       "    <tr>\n",
       "      <th>0</th>\n",
       "      <td>0.87</td>\n",
       "      <td>0.89</td>\n",
       "      <td>0.85</td>\n",
       "      <td>0.87</td>\n",
       "      <td>300</td>\n",
       "    </tr>\n",
       "    <tr>\n",
       "      <th>0</th>\n",
       "      <td>0.86</td>\n",
       "      <td>0.89</td>\n",
       "      <td>0.85</td>\n",
       "      <td>0.87</td>\n",
       "      <td>400</td>\n",
       "    </tr>\n",
       "    <tr>\n",
       "      <th>0</th>\n",
       "      <td>0.86</td>\n",
       "      <td>0.89</td>\n",
       "      <td>0.85</td>\n",
       "      <td>0.86</td>\n",
       "      <td>500</td>\n",
       "    </tr>\n",
       "  </tbody>\n",
       "</table>\n",
       "</div>"
      ],
      "text/plain": [
       "   accuracy  precision  recall   auc  n_estimators\n",
       "0      0.85       0.87    0.85  0.85            50\n",
       "0      0.86       0.88    0.86  0.86           100\n",
       "0      0.86       0.89    0.86  0.86           200\n",
       "0      0.87       0.89    0.85  0.87           300\n",
       "0      0.86       0.89    0.85  0.87           400\n",
       "0      0.86       0.89    0.85  0.86           500"
      ]
     },
     "execution_count": 20,
     "metadata": {},
     "output_type": "execute_result"
    }
   ],
   "source": [
    "#=====================\n",
    "#XGB_MODEL\n",
    "#=====================\n",
    "xgb_models= list(map(lambda x: XGB_MODEL.select_model(n_estimators=x),\\\n",
    "                                                [50,100,200,300,400,500]))\n",
    "\n",
    "# Summary \n",
    "xgb_summary = pd.concat(list(map(lambda x: x.summary, xgb_models)))\n",
    "xgb_summary.to_csv('./summary/xgb.csv')\n",
    "xgb_summary.round(2)"
   ]
  },
  {
   "cell_type": "markdown",
   "metadata": {},
   "source": [
    "Best Model"
   ]
  },
  {
   "cell_type": "code",
   "execution_count": 22,
   "metadata": {},
   "outputs": [],
   "source": [
    "# Best Model\n",
    "best_model = list(filter(lambda x: x.n_estimators == 200,xgb_models))"
   ]
  },
  {
   "cell_type": "code",
   "execution_count": 23,
   "metadata": {},
   "outputs": [
    {
     "data": {
      "text/plain": [
       "array([[4011,  583],\n",
       "       [ 782, 4624]])"
      ]
     },
     "execution_count": 23,
     "metadata": {},
     "output_type": "execute_result"
    }
   ],
   "source": [
    "# Confusion Matrix Best Model\n",
    "best_model[0].confusion_matrix"
   ]
  },
  {
   "cell_type": "code",
   "execution_count": 2,
   "metadata": {},
   "outputs": [
    {
     "ename": "NameError",
     "evalue": "name 'best_model' is not defined",
     "output_type": "error",
     "traceback": [
      "\u001b[0;31m---------------------------------------------------------------------------\u001b[0m",
      "\u001b[0;31mNameError\u001b[0m                                 Traceback (most recent call last)",
      "Cell \u001b[0;32mIn[2], line 2\u001b[0m\n\u001b[1;32m      1\u001b[0m \u001b[39m# Confusion Matrix Plot Best Model\u001b[39;00m\n\u001b[0;32m----> 2\u001b[0m fig \u001b[39m=\u001b[39m best_model[\u001b[39m0\u001b[39m]\u001b[39m.\u001b[39mplot_matrix\u001b[39m.\u001b[39mplot()\n\u001b[1;32m      3\u001b[0m fig\u001b[39m.\u001b[39msavefig(\u001b[39m'\u001b[39m\u001b[39m./figures/ConfusionMatrix.png\u001b[39m\u001b[39m'\u001b[39m)\n",
      "\u001b[0;31mNameError\u001b[0m: name 'best_model' is not defined"
     ]
    }
   ],
   "source": [
    "# Confusion Matrix Plot Best Model\n",
    "fig = best_model[0].plot_matrix.plot()"
   ]
  },
  {
   "cell_type": "code",
   "execution_count": 25,
   "metadata": {},
   "outputs": [],
   "source": [
    "# Importance\n",
    "\n",
    "pd_features_importance = pd.DataFrame({\n",
    "                                    'features' : list(pandas_x_test),\n",
    "                                    'importance' : best_model[0].model.feature_importances_\n",
    "                                    })\\\n",
    "                                    .sort_values('importance',ascending=False)     \n",
    "                                    \n",
    "pd_features_importance.to_csv('./summary/importance.csv')                         "
   ]
  },
  {
   "cell_type": "code",
   "execution_count": 26,
   "metadata": {},
   "outputs": [
    {
     "data": {
      "application/vnd.plotly.v1+json": {
       "config": {
        "plotlyServerURL": "https://plot.ly"
       },
       "data": [
        {
         "alignmentgroup": "True",
         "hovertemplate": "Importance=%{x}<br>Feature=%{y}<extra></extra>",
         "legendgroup": "",
         "marker": {
          "color": "#636efa",
          "pattern": {
           "shape": ""
          }
         },
         "name": "",
         "offsetgroup": "",
         "orientation": "h",
         "showlegend": false,
         "textposition": "auto",
         "texttemplate": "%{x:.2}",
         "type": "bar",
         "x": [
          0.005678845569491386,
          0.005766105372458696,
          0.005824361462146044,
          0.005837095435708761,
          0.006087461486458778,
          0.006104322150349617,
          0.006251655984669924,
          0.006270803976804018,
          0.006512988358736038,
          0.006791141349822283,
          0.00702256616204977,
          0.0072468179278075695,
          0.008077381178736687,
          0.008122592233121395,
          0.009337767027318478,
          0.009478862397372723,
          0.00952339731156826,
          0.010035941377282143,
          0.010434996336698532,
          0.013758364133536816,
          0.017259297892451286,
          0.018903987482190132,
          0.01994861476123333,
          0.022678500041365623,
          0.02288651093840599,
          0.030010676011443138,
          0.03172759339213371,
          0.08552427589893341,
          0.11453697830438614,
          0.16229437291622162
         ],
         "xaxis": "x",
         "y": [
          "seller_address_city_TUxBQ01BUjU2MGMw",
          "mode_not_specified",
          "seller_address_city_TUxBQ1NBTjgxODQ",
          "listing_type_id_bronze",
          "seller_address_city_TUxBQlBBVDI0ODFa",
          "seller_address_city_TUxBQ0lUVTNjNDFm",
          "variations_new",
          "base_price",
          "seller_address_city_TUxBQkZMTzMwNzRa",
          "official_store_id_new",
          "status_paused",
          "seller_address_city_TUxBQ1BJTDQ3NDE",
          "listing_type_id_gold_premium",
          "tags_no_list_dragged_bids_and_visits",
          "seller_address_state_AR-X",
          "seller_address_city_TUxBQk5VRTc3MTZa",
          "listing_type_id_gold_special",
          "seller_address_city_TUxBQlJFVDgyMDVa",
          "seller_address_city_TUxBQ1LNTzc4N2Fm",
          "automatic_relist",
          "MLAWT",
          "seller_address_state_AR-U",
          "title_usado",
          "buying_mode_buy_it_now",
          "free_shipping",
          "title_new",
          "warranty_yes",
          "accepts_mercadopago",
          "listing_type_id_free",
          "initial_quantity"
         ],
         "yaxis": "y"
        }
       ],
       "layout": {
        "barmode": "relative",
        "height": 900,
        "legend": {
         "tracegroupgap": 0
        },
        "template": {
         "data": {
          "bar": [
           {
            "error_x": {
             "color": "#2a3f5f"
            },
            "error_y": {
             "color": "#2a3f5f"
            },
            "marker": {
             "line": {
              "color": "#E5ECF6",
              "width": 0.5
             },
             "pattern": {
              "fillmode": "overlay",
              "size": 10,
              "solidity": 0.2
             }
            },
            "type": "bar"
           }
          ],
          "barpolar": [
           {
            "marker": {
             "line": {
              "color": "#E5ECF6",
              "width": 0.5
             },
             "pattern": {
              "fillmode": "overlay",
              "size": 10,
              "solidity": 0.2
             }
            },
            "type": "barpolar"
           }
          ],
          "carpet": [
           {
            "aaxis": {
             "endlinecolor": "#2a3f5f",
             "gridcolor": "white",
             "linecolor": "white",
             "minorgridcolor": "white",
             "startlinecolor": "#2a3f5f"
            },
            "baxis": {
             "endlinecolor": "#2a3f5f",
             "gridcolor": "white",
             "linecolor": "white",
             "minorgridcolor": "white",
             "startlinecolor": "#2a3f5f"
            },
            "type": "carpet"
           }
          ],
          "choropleth": [
           {
            "colorbar": {
             "outlinewidth": 0,
             "ticks": ""
            },
            "type": "choropleth"
           }
          ],
          "contour": [
           {
            "colorbar": {
             "outlinewidth": 0,
             "ticks": ""
            },
            "colorscale": [
             [
              0,
              "#0d0887"
             ],
             [
              0.1111111111111111,
              "#46039f"
             ],
             [
              0.2222222222222222,
              "#7201a8"
             ],
             [
              0.3333333333333333,
              "#9c179e"
             ],
             [
              0.4444444444444444,
              "#bd3786"
             ],
             [
              0.5555555555555556,
              "#d8576b"
             ],
             [
              0.6666666666666666,
              "#ed7953"
             ],
             [
              0.7777777777777778,
              "#fb9f3a"
             ],
             [
              0.8888888888888888,
              "#fdca26"
             ],
             [
              1,
              "#f0f921"
             ]
            ],
            "type": "contour"
           }
          ],
          "contourcarpet": [
           {
            "colorbar": {
             "outlinewidth": 0,
             "ticks": ""
            },
            "type": "contourcarpet"
           }
          ],
          "heatmap": [
           {
            "colorbar": {
             "outlinewidth": 0,
             "ticks": ""
            },
            "colorscale": [
             [
              0,
              "#0d0887"
             ],
             [
              0.1111111111111111,
              "#46039f"
             ],
             [
              0.2222222222222222,
              "#7201a8"
             ],
             [
              0.3333333333333333,
              "#9c179e"
             ],
             [
              0.4444444444444444,
              "#bd3786"
             ],
             [
              0.5555555555555556,
              "#d8576b"
             ],
             [
              0.6666666666666666,
              "#ed7953"
             ],
             [
              0.7777777777777778,
              "#fb9f3a"
             ],
             [
              0.8888888888888888,
              "#fdca26"
             ],
             [
              1,
              "#f0f921"
             ]
            ],
            "type": "heatmap"
           }
          ],
          "heatmapgl": [
           {
            "colorbar": {
             "outlinewidth": 0,
             "ticks": ""
            },
            "colorscale": [
             [
              0,
              "#0d0887"
             ],
             [
              0.1111111111111111,
              "#46039f"
             ],
             [
              0.2222222222222222,
              "#7201a8"
             ],
             [
              0.3333333333333333,
              "#9c179e"
             ],
             [
              0.4444444444444444,
              "#bd3786"
             ],
             [
              0.5555555555555556,
              "#d8576b"
             ],
             [
              0.6666666666666666,
              "#ed7953"
             ],
             [
              0.7777777777777778,
              "#fb9f3a"
             ],
             [
              0.8888888888888888,
              "#fdca26"
             ],
             [
              1,
              "#f0f921"
             ]
            ],
            "type": "heatmapgl"
           }
          ],
          "histogram": [
           {
            "marker": {
             "pattern": {
              "fillmode": "overlay",
              "size": 10,
              "solidity": 0.2
             }
            },
            "type": "histogram"
           }
          ],
          "histogram2d": [
           {
            "colorbar": {
             "outlinewidth": 0,
             "ticks": ""
            },
            "colorscale": [
             [
              0,
              "#0d0887"
             ],
             [
              0.1111111111111111,
              "#46039f"
             ],
             [
              0.2222222222222222,
              "#7201a8"
             ],
             [
              0.3333333333333333,
              "#9c179e"
             ],
             [
              0.4444444444444444,
              "#bd3786"
             ],
             [
              0.5555555555555556,
              "#d8576b"
             ],
             [
              0.6666666666666666,
              "#ed7953"
             ],
             [
              0.7777777777777778,
              "#fb9f3a"
             ],
             [
              0.8888888888888888,
              "#fdca26"
             ],
             [
              1,
              "#f0f921"
             ]
            ],
            "type": "histogram2d"
           }
          ],
          "histogram2dcontour": [
           {
            "colorbar": {
             "outlinewidth": 0,
             "ticks": ""
            },
            "colorscale": [
             [
              0,
              "#0d0887"
             ],
             [
              0.1111111111111111,
              "#46039f"
             ],
             [
              0.2222222222222222,
              "#7201a8"
             ],
             [
              0.3333333333333333,
              "#9c179e"
             ],
             [
              0.4444444444444444,
              "#bd3786"
             ],
             [
              0.5555555555555556,
              "#d8576b"
             ],
             [
              0.6666666666666666,
              "#ed7953"
             ],
             [
              0.7777777777777778,
              "#fb9f3a"
             ],
             [
              0.8888888888888888,
              "#fdca26"
             ],
             [
              1,
              "#f0f921"
             ]
            ],
            "type": "histogram2dcontour"
           }
          ],
          "mesh3d": [
           {
            "colorbar": {
             "outlinewidth": 0,
             "ticks": ""
            },
            "type": "mesh3d"
           }
          ],
          "parcoords": [
           {
            "line": {
             "colorbar": {
              "outlinewidth": 0,
              "ticks": ""
             }
            },
            "type": "parcoords"
           }
          ],
          "pie": [
           {
            "automargin": true,
            "type": "pie"
           }
          ],
          "scatter": [
           {
            "fillpattern": {
             "fillmode": "overlay",
             "size": 10,
             "solidity": 0.2
            },
            "type": "scatter"
           }
          ],
          "scatter3d": [
           {
            "line": {
             "colorbar": {
              "outlinewidth": 0,
              "ticks": ""
             }
            },
            "marker": {
             "colorbar": {
              "outlinewidth": 0,
              "ticks": ""
             }
            },
            "type": "scatter3d"
           }
          ],
          "scattercarpet": [
           {
            "marker": {
             "colorbar": {
              "outlinewidth": 0,
              "ticks": ""
             }
            },
            "type": "scattercarpet"
           }
          ],
          "scattergeo": [
           {
            "marker": {
             "colorbar": {
              "outlinewidth": 0,
              "ticks": ""
             }
            },
            "type": "scattergeo"
           }
          ],
          "scattergl": [
           {
            "marker": {
             "colorbar": {
              "outlinewidth": 0,
              "ticks": ""
             }
            },
            "type": "scattergl"
           }
          ],
          "scattermapbox": [
           {
            "marker": {
             "colorbar": {
              "outlinewidth": 0,
              "ticks": ""
             }
            },
            "type": "scattermapbox"
           }
          ],
          "scatterpolar": [
           {
            "marker": {
             "colorbar": {
              "outlinewidth": 0,
              "ticks": ""
             }
            },
            "type": "scatterpolar"
           }
          ],
          "scatterpolargl": [
           {
            "marker": {
             "colorbar": {
              "outlinewidth": 0,
              "ticks": ""
             }
            },
            "type": "scatterpolargl"
           }
          ],
          "scatterternary": [
           {
            "marker": {
             "colorbar": {
              "outlinewidth": 0,
              "ticks": ""
             }
            },
            "type": "scatterternary"
           }
          ],
          "surface": [
           {
            "colorbar": {
             "outlinewidth": 0,
             "ticks": ""
            },
            "colorscale": [
             [
              0,
              "#0d0887"
             ],
             [
              0.1111111111111111,
              "#46039f"
             ],
             [
              0.2222222222222222,
              "#7201a8"
             ],
             [
              0.3333333333333333,
              "#9c179e"
             ],
             [
              0.4444444444444444,
              "#bd3786"
             ],
             [
              0.5555555555555556,
              "#d8576b"
             ],
             [
              0.6666666666666666,
              "#ed7953"
             ],
             [
              0.7777777777777778,
              "#fb9f3a"
             ],
             [
              0.8888888888888888,
              "#fdca26"
             ],
             [
              1,
              "#f0f921"
             ]
            ],
            "type": "surface"
           }
          ],
          "table": [
           {
            "cells": {
             "fill": {
              "color": "#EBF0F8"
             },
             "line": {
              "color": "white"
             }
            },
            "header": {
             "fill": {
              "color": "#C8D4E3"
             },
             "line": {
              "color": "white"
             }
            },
            "type": "table"
           }
          ]
         },
         "layout": {
          "annotationdefaults": {
           "arrowcolor": "#2a3f5f",
           "arrowhead": 0,
           "arrowwidth": 1
          },
          "autotypenumbers": "strict",
          "coloraxis": {
           "colorbar": {
            "outlinewidth": 0,
            "ticks": ""
           }
          },
          "colorscale": {
           "diverging": [
            [
             0,
             "#8e0152"
            ],
            [
             0.1,
             "#c51b7d"
            ],
            [
             0.2,
             "#de77ae"
            ],
            [
             0.3,
             "#f1b6da"
            ],
            [
             0.4,
             "#fde0ef"
            ],
            [
             0.5,
             "#f7f7f7"
            ],
            [
             0.6,
             "#e6f5d0"
            ],
            [
             0.7,
             "#b8e186"
            ],
            [
             0.8,
             "#7fbc41"
            ],
            [
             0.9,
             "#4d9221"
            ],
            [
             1,
             "#276419"
            ]
           ],
           "sequential": [
            [
             0,
             "#0d0887"
            ],
            [
             0.1111111111111111,
             "#46039f"
            ],
            [
             0.2222222222222222,
             "#7201a8"
            ],
            [
             0.3333333333333333,
             "#9c179e"
            ],
            [
             0.4444444444444444,
             "#bd3786"
            ],
            [
             0.5555555555555556,
             "#d8576b"
            ],
            [
             0.6666666666666666,
             "#ed7953"
            ],
            [
             0.7777777777777778,
             "#fb9f3a"
            ],
            [
             0.8888888888888888,
             "#fdca26"
            ],
            [
             1,
             "#f0f921"
            ]
           ],
           "sequentialminus": [
            [
             0,
             "#0d0887"
            ],
            [
             0.1111111111111111,
             "#46039f"
            ],
            [
             0.2222222222222222,
             "#7201a8"
            ],
            [
             0.3333333333333333,
             "#9c179e"
            ],
            [
             0.4444444444444444,
             "#bd3786"
            ],
            [
             0.5555555555555556,
             "#d8576b"
            ],
            [
             0.6666666666666666,
             "#ed7953"
            ],
            [
             0.7777777777777778,
             "#fb9f3a"
            ],
            [
             0.8888888888888888,
             "#fdca26"
            ],
            [
             1,
             "#f0f921"
            ]
           ]
          },
          "colorway": [
           "#636efa",
           "#EF553B",
           "#00cc96",
           "#ab63fa",
           "#FFA15A",
           "#19d3f3",
           "#FF6692",
           "#B6E880",
           "#FF97FF",
           "#FECB52"
          ],
          "font": {
           "color": "#2a3f5f"
          },
          "geo": {
           "bgcolor": "white",
           "lakecolor": "white",
           "landcolor": "#E5ECF6",
           "showlakes": true,
           "showland": true,
           "subunitcolor": "white"
          },
          "hoverlabel": {
           "align": "left"
          },
          "hovermode": "closest",
          "mapbox": {
           "style": "light"
          },
          "paper_bgcolor": "white",
          "plot_bgcolor": "#E5ECF6",
          "polar": {
           "angularaxis": {
            "gridcolor": "white",
            "linecolor": "white",
            "ticks": ""
           },
           "bgcolor": "#E5ECF6",
           "radialaxis": {
            "gridcolor": "white",
            "linecolor": "white",
            "ticks": ""
           }
          },
          "scene": {
           "xaxis": {
            "backgroundcolor": "#E5ECF6",
            "gridcolor": "white",
            "gridwidth": 2,
            "linecolor": "white",
            "showbackground": true,
            "ticks": "",
            "zerolinecolor": "white"
           },
           "yaxis": {
            "backgroundcolor": "#E5ECF6",
            "gridcolor": "white",
            "gridwidth": 2,
            "linecolor": "white",
            "showbackground": true,
            "ticks": "",
            "zerolinecolor": "white"
           },
           "zaxis": {
            "backgroundcolor": "#E5ECF6",
            "gridcolor": "white",
            "gridwidth": 2,
            "linecolor": "white",
            "showbackground": true,
            "ticks": "",
            "zerolinecolor": "white"
           }
          },
          "shapedefaults": {
           "line": {
            "color": "#2a3f5f"
           }
          },
          "ternary": {
           "aaxis": {
            "gridcolor": "white",
            "linecolor": "white",
            "ticks": ""
           },
           "baxis": {
            "gridcolor": "white",
            "linecolor": "white",
            "ticks": ""
           },
           "bgcolor": "#E5ECF6",
           "caxis": {
            "gridcolor": "white",
            "linecolor": "white",
            "ticks": ""
           }
          },
          "title": {
           "x": 0.05
          },
          "xaxis": {
           "automargin": true,
           "gridcolor": "white",
           "linecolor": "white",
           "ticks": "",
           "title": {
            "standoff": 15
           },
           "zerolinecolor": "white",
           "zerolinewidth": 2
          },
          "yaxis": {
           "automargin": true,
           "gridcolor": "white",
           "linecolor": "white",
           "ticks": "",
           "title": {
            "standoff": 15
           },
           "zerolinecolor": "white",
           "zerolinewidth": 2
          }
         }
        },
        "title": {
         "text": "Feature importance"
        },
        "width": 700,
        "xaxis": {
         "anchor": "y",
         "domain": [
          0,
          1
         ],
         "title": {
          "text": "Importance"
         }
        },
        "yaxis": {
         "anchor": "x",
         "domain": [
          0,
          1
         ],
         "title": {
          "text": "Feature"
         }
        }
       }
      }
     },
     "metadata": {},
     "output_type": "display_data"
    }
   ],
   "source": [
    "fig = px.bar(pd_features_importance.head(30).sort_values('importance',ascending=True),\n",
    "                x='importance',\n",
    "                y='features',\n",
    "                labels={'features':'Feature',\n",
    "                        'importance':'Importance',\n",
    "                        },\n",
    "                title = 'Feature importance',\n",
    "                text_auto='.2',\n",
    "                height=900,\n",
    "                width=700\n",
    "\n",
    ")\n",
    "fig.show()"
   ]
  }
 ],
 "metadata": {
  "kernelspec": {
   "display_name": "Python 3.9.0 ('analisis')",
   "language": "python",
   "name": "python3"
  },
  "language_info": {
   "codemirror_mode": {
    "name": "ipython",
    "version": 3
   },
   "file_extension": ".py",
   "mimetype": "text/x-python",
   "name": "python",
   "nbconvert_exporter": "python",
   "pygments_lexer": "ipython3",
   "version": "3.9.0"
  },
  "orig_nbformat": 4,
  "vscode": {
   "interpreter": {
    "hash": "cd1b4e18fb74f565c8fc9642e64dc5ff934c7c3ac8741d3f6831ae7dbdee96fd"
   }
  }
 },
 "nbformat": 4,
 "nbformat_minor": 2
}
